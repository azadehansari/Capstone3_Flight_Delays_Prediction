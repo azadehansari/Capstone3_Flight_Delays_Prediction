{
 "cells": [
  {
   "cell_type": "markdown",
   "metadata": {},
   "source": [
    "## Data Format\n",
    "The following times are in the xx:yy - hour:minute format (e.g. 1536 means 3:36pm, 345 means 3:45am, 16 means 00:16am)\n",
    "\n",
    "* scheduled_departure\n",
    "* departure_time\n",
    "* scheduled_arrival\n",
    "* arrival_time\n",
    "* wheels_off\n",
    "* wheels_on\n",
    "\n",
    "\n",
    "The following times are in minutes format (negatives mean actual_time is ahead of scheduled_time for the absolute value of that negative number)\n",
    "* arrival_delay\n",
    "* departure_delay\n",
    "* taxi_in\n",
    "* taxi_out\n",
    "* scheduled_time\n",
    "* elapsed_time\n",
    "* air_time\n",
    "\n",
    "Distance in miles\n",
    "\n",
    "## Data Definition\n",
    "* WHEELS_OFF Time - The time point that the aircraft's wheels leave the ground.\n",
    "* WHEELS_ON Time - The time point that the aircraft's wheels touch on the ground.\n",
    "* TAXI_OUT Time - The time duration elapsed between departure from the origin airport gate and wheels off.\n",
    "* TAXI_IN Time - The time duration elapsed between wheels-on and gate arrival at the destination airport.\n",
    "* AIR_TIME - The time duration between wheels_off and wheels_on time.\n",
    "\n",
    "## Data Relationship\n",
    "* arrival_time = wheels_on + taxi_in\n",
    "* arrival_delay = arrival_time - scheduled_arrival\n",
    "* departure_time = wheels_off - taxi_out\n",
    "* departure_delay = departure_time - scheduled_departure\n",
    "* elapsed_time =air_time + taxi_in + taxi_out\n",
    "* air_time = wheels_on - wheels_off\n"
   ]
  },
  {
   "cell_type": "code",
   "execution_count": 1,
   "metadata": {},
   "outputs": [],
   "source": [
    "import pandas as pd\n",
    "import numpy as np\n",
    "import matplotlib.pyplot as plt\n",
    "import seaborn as sns"
   ]
  },
  {
   "cell_type": "code",
   "execution_count": 2,
   "metadata": {},
   "outputs": [
    {
     "name": "stderr",
     "output_type": "stream",
     "text": [
      "<ipython-input-2-a1bea3112058>:1: DtypeWarning: Columns (7,8) have mixed types. Specify dtype option on import or set low_memory=False.\n",
      "  flights_df = pd.read_csv('../raw_data/flights.csv')\n"
     ]
    }
   ],
   "source": [
    "flights_df = pd.read_csv('../raw_data/flights.csv')\n",
    "airports_df = pd.read_csv('../raw_data/airports.csv')\n",
    "airlines_df = pd.read_csv('../raw_data/airlines.csv')"
   ]
  },
  {
   "cell_type": "code",
   "execution_count": 3,
   "metadata": {},
   "outputs": [],
   "source": [
    "features = []"
   ]
  },
  {
   "cell_type": "code",
   "execution_count": 4,
   "metadata": {},
   "outputs": [
    {
     "data": {
      "text/html": [
       "<div>\n",
       "<style scoped>\n",
       "    .dataframe tbody tr th:only-of-type {\n",
       "        vertical-align: middle;\n",
       "    }\n",
       "\n",
       "    .dataframe tbody tr th {\n",
       "        vertical-align: top;\n",
       "    }\n",
       "\n",
       "    .dataframe thead th {\n",
       "        text-align: right;\n",
       "    }\n",
       "</style>\n",
       "<table border=\"1\" class=\"dataframe\">\n",
       "  <thead>\n",
       "    <tr style=\"text-align: right;\">\n",
       "      <th></th>\n",
       "      <th>YEAR</th>\n",
       "      <th>MONTH</th>\n",
       "      <th>DAY</th>\n",
       "      <th>DAY_OF_WEEK</th>\n",
       "      <th>AIRLINE</th>\n",
       "      <th>FLIGHT_NUMBER</th>\n",
       "      <th>TAIL_NUMBER</th>\n",
       "      <th>ORIGIN_AIRPORT</th>\n",
       "      <th>DESTINATION_AIRPORT</th>\n",
       "      <th>SCHEDULED_DEPARTURE</th>\n",
       "      <th>...</th>\n",
       "      <th>ARRIVAL_TIME</th>\n",
       "      <th>ARRIVAL_DELAY</th>\n",
       "      <th>DIVERTED</th>\n",
       "      <th>CANCELLED</th>\n",
       "      <th>CANCELLATION_REASON</th>\n",
       "      <th>AIR_SYSTEM_DELAY</th>\n",
       "      <th>SECURITY_DELAY</th>\n",
       "      <th>AIRLINE_DELAY</th>\n",
       "      <th>LATE_AIRCRAFT_DELAY</th>\n",
       "      <th>WEATHER_DELAY</th>\n",
       "    </tr>\n",
       "  </thead>\n",
       "  <tbody>\n",
       "    <tr>\n",
       "      <th>0</th>\n",
       "      <td>2015</td>\n",
       "      <td>1</td>\n",
       "      <td>1</td>\n",
       "      <td>4</td>\n",
       "      <td>AS</td>\n",
       "      <td>98</td>\n",
       "      <td>N407AS</td>\n",
       "      <td>ANC</td>\n",
       "      <td>SEA</td>\n",
       "      <td>5</td>\n",
       "      <td>...</td>\n",
       "      <td>408.0</td>\n",
       "      <td>-22.0</td>\n",
       "      <td>0</td>\n",
       "      <td>0</td>\n",
       "      <td>NaN</td>\n",
       "      <td>NaN</td>\n",
       "      <td>NaN</td>\n",
       "      <td>NaN</td>\n",
       "      <td>NaN</td>\n",
       "      <td>NaN</td>\n",
       "    </tr>\n",
       "    <tr>\n",
       "      <th>1</th>\n",
       "      <td>2015</td>\n",
       "      <td>1</td>\n",
       "      <td>1</td>\n",
       "      <td>4</td>\n",
       "      <td>AA</td>\n",
       "      <td>2336</td>\n",
       "      <td>N3KUAA</td>\n",
       "      <td>LAX</td>\n",
       "      <td>PBI</td>\n",
       "      <td>10</td>\n",
       "      <td>...</td>\n",
       "      <td>741.0</td>\n",
       "      <td>-9.0</td>\n",
       "      <td>0</td>\n",
       "      <td>0</td>\n",
       "      <td>NaN</td>\n",
       "      <td>NaN</td>\n",
       "      <td>NaN</td>\n",
       "      <td>NaN</td>\n",
       "      <td>NaN</td>\n",
       "      <td>NaN</td>\n",
       "    </tr>\n",
       "    <tr>\n",
       "      <th>2</th>\n",
       "      <td>2015</td>\n",
       "      <td>1</td>\n",
       "      <td>1</td>\n",
       "      <td>4</td>\n",
       "      <td>US</td>\n",
       "      <td>840</td>\n",
       "      <td>N171US</td>\n",
       "      <td>SFO</td>\n",
       "      <td>CLT</td>\n",
       "      <td>20</td>\n",
       "      <td>...</td>\n",
       "      <td>811.0</td>\n",
       "      <td>5.0</td>\n",
       "      <td>0</td>\n",
       "      <td>0</td>\n",
       "      <td>NaN</td>\n",
       "      <td>NaN</td>\n",
       "      <td>NaN</td>\n",
       "      <td>NaN</td>\n",
       "      <td>NaN</td>\n",
       "      <td>NaN</td>\n",
       "    </tr>\n",
       "    <tr>\n",
       "      <th>3</th>\n",
       "      <td>2015</td>\n",
       "      <td>1</td>\n",
       "      <td>1</td>\n",
       "      <td>4</td>\n",
       "      <td>AA</td>\n",
       "      <td>258</td>\n",
       "      <td>N3HYAA</td>\n",
       "      <td>LAX</td>\n",
       "      <td>MIA</td>\n",
       "      <td>20</td>\n",
       "      <td>...</td>\n",
       "      <td>756.0</td>\n",
       "      <td>-9.0</td>\n",
       "      <td>0</td>\n",
       "      <td>0</td>\n",
       "      <td>NaN</td>\n",
       "      <td>NaN</td>\n",
       "      <td>NaN</td>\n",
       "      <td>NaN</td>\n",
       "      <td>NaN</td>\n",
       "      <td>NaN</td>\n",
       "    </tr>\n",
       "    <tr>\n",
       "      <th>4</th>\n",
       "      <td>2015</td>\n",
       "      <td>1</td>\n",
       "      <td>1</td>\n",
       "      <td>4</td>\n",
       "      <td>AS</td>\n",
       "      <td>135</td>\n",
       "      <td>N527AS</td>\n",
       "      <td>SEA</td>\n",
       "      <td>ANC</td>\n",
       "      <td>25</td>\n",
       "      <td>...</td>\n",
       "      <td>259.0</td>\n",
       "      <td>-21.0</td>\n",
       "      <td>0</td>\n",
       "      <td>0</td>\n",
       "      <td>NaN</td>\n",
       "      <td>NaN</td>\n",
       "      <td>NaN</td>\n",
       "      <td>NaN</td>\n",
       "      <td>NaN</td>\n",
       "      <td>NaN</td>\n",
       "    </tr>\n",
       "  </tbody>\n",
       "</table>\n",
       "<p>5 rows × 31 columns</p>\n",
       "</div>"
      ],
      "text/plain": [
       "   YEAR  MONTH  DAY  DAY_OF_WEEK AIRLINE  FLIGHT_NUMBER TAIL_NUMBER  \\\n",
       "0  2015      1    1            4      AS             98      N407AS   \n",
       "1  2015      1    1            4      AA           2336      N3KUAA   \n",
       "2  2015      1    1            4      US            840      N171US   \n",
       "3  2015      1    1            4      AA            258      N3HYAA   \n",
       "4  2015      1    1            4      AS            135      N527AS   \n",
       "\n",
       "  ORIGIN_AIRPORT DESTINATION_AIRPORT  SCHEDULED_DEPARTURE  ...  ARRIVAL_TIME  \\\n",
       "0            ANC                 SEA                    5  ...         408.0   \n",
       "1            LAX                 PBI                   10  ...         741.0   \n",
       "2            SFO                 CLT                   20  ...         811.0   \n",
       "3            LAX                 MIA                   20  ...         756.0   \n",
       "4            SEA                 ANC                   25  ...         259.0   \n",
       "\n",
       "   ARRIVAL_DELAY  DIVERTED  CANCELLED  CANCELLATION_REASON  AIR_SYSTEM_DELAY  \\\n",
       "0          -22.0         0          0                  NaN               NaN   \n",
       "1           -9.0         0          0                  NaN               NaN   \n",
       "2            5.0         0          0                  NaN               NaN   \n",
       "3           -9.0         0          0                  NaN               NaN   \n",
       "4          -21.0         0          0                  NaN               NaN   \n",
       "\n",
       "   SECURITY_DELAY  AIRLINE_DELAY  LATE_AIRCRAFT_DELAY  WEATHER_DELAY  \n",
       "0             NaN            NaN                  NaN            NaN  \n",
       "1             NaN            NaN                  NaN            NaN  \n",
       "2             NaN            NaN                  NaN            NaN  \n",
       "3             NaN            NaN                  NaN            NaN  \n",
       "4             NaN            NaN                  NaN            NaN  \n",
       "\n",
       "[5 rows x 31 columns]"
      ]
     },
     "execution_count": 4,
     "metadata": {},
     "output_type": "execute_result"
    }
   ],
   "source": [
    "flights_df.head()"
   ]
  },
  {
   "cell_type": "code",
   "execution_count": 5,
   "metadata": {},
   "outputs": [
    {
     "data": {
      "text/plain": [
       "Index(['YEAR', 'MONTH', 'DAY', 'DAY_OF_WEEK', 'AIRLINE', 'FLIGHT_NUMBER',\n",
       "       'TAIL_NUMBER', 'ORIGIN_AIRPORT', 'DESTINATION_AIRPORT',\n",
       "       'SCHEDULED_DEPARTURE', 'DEPARTURE_TIME', 'DEPARTURE_DELAY', 'TAXI_OUT',\n",
       "       'WHEELS_OFF', 'SCHEDULED_TIME', 'ELAPSED_TIME', 'AIR_TIME', 'DISTANCE',\n",
       "       'WHEELS_ON', 'TAXI_IN', 'SCHEDULED_ARRIVAL', 'ARRIVAL_TIME',\n",
       "       'ARRIVAL_DELAY', 'DIVERTED', 'CANCELLED', 'CANCELLATION_REASON',\n",
       "       'AIR_SYSTEM_DELAY', 'SECURITY_DELAY', 'AIRLINE_DELAY',\n",
       "       'LATE_AIRCRAFT_DELAY', 'WEATHER_DELAY'],\n",
       "      dtype='object')"
      ]
     },
     "execution_count": 5,
     "metadata": {},
     "output_type": "execute_result"
    }
   ],
   "source": [
    "flights_df.columns"
   ]
  },
  {
   "cell_type": "code",
   "execution_count": 6,
   "metadata": {},
   "outputs": [],
   "source": [
    "flights_df.drop(columns = 'YEAR', inplace = True)"
   ]
  },
  {
   "cell_type": "code",
   "execution_count": 7,
   "metadata": {},
   "outputs": [
    {
     "data": {
      "text/plain": [
       "Index(['MONTH', 'DAY', 'DAY_OF_WEEK', 'AIRLINE', 'FLIGHT_NUMBER',\n",
       "       'TAIL_NUMBER', 'ORIGIN_AIRPORT', 'DESTINATION_AIRPORT',\n",
       "       'SCHEDULED_DEPARTURE', 'DEPARTURE_TIME', 'DEPARTURE_DELAY', 'TAXI_OUT',\n",
       "       'WHEELS_OFF', 'SCHEDULED_TIME', 'ELAPSED_TIME', 'AIR_TIME', 'DISTANCE',\n",
       "       'WHEELS_ON', 'TAXI_IN', 'SCHEDULED_ARRIVAL', 'ARRIVAL_TIME',\n",
       "       'ARRIVAL_DELAY', 'DIVERTED', 'CANCELLED', 'CANCELLATION_REASON',\n",
       "       'AIR_SYSTEM_DELAY', 'SECURITY_DELAY', 'AIRLINE_DELAY',\n",
       "       'LATE_AIRCRAFT_DELAY', 'WEATHER_DELAY'],\n",
       "      dtype='object')"
      ]
     },
     "execution_count": 7,
     "metadata": {},
     "output_type": "execute_result"
    }
   ],
   "source": [
    "flights_df.columns"
   ]
  },
  {
   "cell_type": "code",
   "execution_count": 8,
   "metadata": {},
   "outputs": [
    {
     "data": {
      "text/plain": [
       "MONTH\n",
       "7     520718\n",
       "8     510536\n",
       "3     504312\n",
       "6     503897\n",
       "5     496993\n",
       "10    486165\n",
       "4     485151\n",
       "12    479230\n",
       "1     469968\n",
       "11    467972\n",
       "9     464946\n",
       "2     429191\n",
       "Name: count, dtype: int64"
      ]
     },
     "execution_count": 8,
     "metadata": {},
     "output_type": "execute_result"
    }
   ],
   "source": [
    "flights_df.MONTH.value_counts()"
   ]
  },
  {
   "cell_type": "code",
   "execution_count": 9,
   "metadata": {},
   "outputs": [
    {
     "data": {
      "text/plain": [
       "<Axes: >"
      ]
     },
     "execution_count": 9,
     "metadata": {},
     "output_type": "execute_result"
    },
    {
     "data": {
      "image/png": "[encoded data removed]",
      "text/plain": [
       "<Figure size 432x288 with 1 Axes>"
      ]
     },
     "metadata": {
      "needs_background": "light"
     },
     "output_type": "display_data"
    }
   ],
   "source": [
    "flights_df.MONTH.hist()"
   ]
  },
  {
   "cell_type": "code",
   "execution_count": 10,
   "metadata": {},
   "outputs": [
    {
     "data": {
      "text/plain": [
       "False"
      ]
     },
     "execution_count": 10,
     "metadata": {},
     "output_type": "execute_result"
    }
   ],
   "source": [
    "flights_df.MONTH.isna().any()"
   ]
  },
  {
   "cell_type": "code",
   "execution_count": 11,
   "metadata": {},
   "outputs": [
    {
     "data": {
      "text/plain": [
       "['MONTH']"
      ]
     },
     "execution_count": 11,
     "metadata": {},
     "output_type": "execute_result"
    }
   ],
   "source": [
    "features.append('MONTH')\n",
    "features"
   ]
  },
  {
   "cell_type": "markdown",
   "metadata": {},
   "source": [
    "No missing data in column Months, Also a lot more data in the months of January and December"
   ]
  },
  {
   "cell_type": "code",
   "execution_count": 12,
   "metadata": {},
   "outputs": [
    {
     "data": {
      "text/plain": [
       "<Axes: >"
      ]
     },
     "execution_count": 12,
     "metadata": {},
     "output_type": "execute_result"
    },
    {
     "data": {
      "image/png": "[encoded data removed]",
      "text/plain": [
       "<Figure size 432x288 with 1 Axes>"
      ]
     },
     "metadata": {
      "needs_background": "light"
     },
     "output_type": "display_data"
    }
   ],
   "source": [
    "flights_df.DAY.hist()"
   ]
  },
  {
   "cell_type": "code",
   "execution_count": 13,
   "metadata": {},
   "outputs": [
    {
     "data": {
      "text/plain": [
       "False"
      ]
     },
     "execution_count": 13,
     "metadata": {},
     "output_type": "execute_result"
    }
   ],
   "source": [
    "flights_df.DAY.isna().any()"
   ]
  },
  {
   "cell_type": "code",
   "execution_count": 14,
   "metadata": {},
   "outputs": [
    {
     "data": {
      "text/plain": [
       "['MONTH', 'DAY']"
      ]
     },
     "execution_count": 14,
     "metadata": {},
     "output_type": "execute_result"
    }
   ],
   "source": [
    "features.append('DAY')\n",
    "features"
   ]
  },
  {
   "cell_type": "code",
   "execution_count": 15,
   "metadata": {},
   "outputs": [
    {
     "data": {
      "text/plain": [
       "<Axes: >"
      ]
     },
     "execution_count": 15,
     "metadata": {},
     "output_type": "execute_result"
    },
    {
     "data": {
      "image/png": "[encoded data removed]",
      "text/plain": [
       "<Figure size 432x288 with 1 Axes>"
      ]
     },
     "metadata": {
      "needs_background": "light"
     },
     "output_type": "display_data"
    }
   ],
   "source": [
    "flights_df.DAY_OF_WEEK.hist()"
   ]
  },
  {
   "cell_type": "code",
   "execution_count": 16,
   "metadata": {},
   "outputs": [
    {
     "data": {
      "text/plain": [
       "False"
      ]
     },
     "execution_count": 16,
     "metadata": {},
     "output_type": "execute_result"
    }
   ],
   "source": [
    "flights_df.DAY_OF_WEEK.isna().any()"
   ]
  },
  {
   "cell_type": "markdown",
   "metadata": {},
   "source": [
    "* 1 = Monday\n",
    "* 7 = Sunday"
   ]
  },
  {
   "cell_type": "markdown",
   "metadata": {},
   "source": [
    "No missign data in Day of the week column, there are pretty much the same number of flights throughout the week, there is slightly less number of flights in the 6th day of the week (Saturdays)."
   ]
  },
  {
   "cell_type": "code",
   "execution_count": 17,
   "metadata": {},
   "outputs": [
    {
     "data": {
      "text/plain": [
       "['MONTH', 'DAY', 'DAY_OF_WEEK']"
      ]
     },
     "execution_count": 17,
     "metadata": {},
     "output_type": "execute_result"
    }
   ],
   "source": [
    "features.append('DAY_OF_WEEK')\n",
    "features"
   ]
  },
  {
   "cell_type": "code",
   "execution_count": 18,
   "metadata": {},
   "outputs": [
    {
     "data": {
      "text/html": [
       "<div>\n",
       "<style scoped>\n",
       "    .dataframe tbody tr th:only-of-type {\n",
       "        vertical-align: middle;\n",
       "    }\n",
       "\n",
       "    .dataframe tbody tr th {\n",
       "        vertical-align: top;\n",
       "    }\n",
       "\n",
       "    .dataframe thead th {\n",
       "        text-align: right;\n",
       "    }\n",
       "</style>\n",
       "<table border=\"1\" class=\"dataframe\">\n",
       "  <thead>\n",
       "    <tr style=\"text-align: right;\">\n",
       "      <th></th>\n",
       "      <th>WHEELS_OFF</th>\n",
       "      <th>SCHEDULED_TIME</th>\n",
       "      <th>ELAPSED_TIME</th>\n",
       "      <th>AIR_TIME</th>\n",
       "      <th>DISTANCE</th>\n",
       "      <th>WHEELS_ON</th>\n",
       "    </tr>\n",
       "  </thead>\n",
       "  <tbody>\n",
       "    <tr>\n",
       "      <th>0</th>\n",
       "      <td>15.0</td>\n",
       "      <td>205.0</td>\n",
       "      <td>194.0</td>\n",
       "      <td>169.0</td>\n",
       "      <td>1448</td>\n",
       "      <td>404.0</td>\n",
       "    </tr>\n",
       "    <tr>\n",
       "      <th>1</th>\n",
       "      <td>14.0</td>\n",
       "      <td>280.0</td>\n",
       "      <td>279.0</td>\n",
       "      <td>263.0</td>\n",
       "      <td>2330</td>\n",
       "      <td>737.0</td>\n",
       "    </tr>\n",
       "    <tr>\n",
       "      <th>2</th>\n",
       "      <td>34.0</td>\n",
       "      <td>286.0</td>\n",
       "      <td>293.0</td>\n",
       "      <td>266.0</td>\n",
       "      <td>2296</td>\n",
       "      <td>800.0</td>\n",
       "    </tr>\n",
       "    <tr>\n",
       "      <th>3</th>\n",
       "      <td>30.0</td>\n",
       "      <td>285.0</td>\n",
       "      <td>281.0</td>\n",
       "      <td>258.0</td>\n",
       "      <td>2342</td>\n",
       "      <td>748.0</td>\n",
       "    </tr>\n",
       "    <tr>\n",
       "      <th>4</th>\n",
       "      <td>35.0</td>\n",
       "      <td>235.0</td>\n",
       "      <td>215.0</td>\n",
       "      <td>199.0</td>\n",
       "      <td>1448</td>\n",
       "      <td>254.0</td>\n",
       "    </tr>\n",
       "    <tr>\n",
       "      <th>...</th>\n",
       "      <td>...</td>\n",
       "      <td>...</td>\n",
       "      <td>...</td>\n",
       "      <td>...</td>\n",
       "      <td>...</td>\n",
       "      <td>...</td>\n",
       "    </tr>\n",
       "    <tr>\n",
       "      <th>5819074</th>\n",
       "      <td>17.0</td>\n",
       "      <td>320.0</td>\n",
       "      <td>298.0</td>\n",
       "      <td>272.0</td>\n",
       "      <td>2611</td>\n",
       "      <td>749.0</td>\n",
       "    </tr>\n",
       "    <tr>\n",
       "      <th>5819075</th>\n",
       "      <td>12.0</td>\n",
       "      <td>227.0</td>\n",
       "      <td>215.0</td>\n",
       "      <td>195.0</td>\n",
       "      <td>1617</td>\n",
       "      <td>427.0</td>\n",
       "    </tr>\n",
       "    <tr>\n",
       "      <th>5819076</th>\n",
       "      <td>7.0</td>\n",
       "      <td>221.0</td>\n",
       "      <td>222.0</td>\n",
       "      <td>197.0</td>\n",
       "      <td>1598</td>\n",
       "      <td>424.0</td>\n",
       "    </tr>\n",
       "    <tr>\n",
       "      <th>5819077</th>\n",
       "      <td>3.0</td>\n",
       "      <td>161.0</td>\n",
       "      <td>157.0</td>\n",
       "      <td>144.0</td>\n",
       "      <td>1189</td>\n",
       "      <td>327.0</td>\n",
       "    </tr>\n",
       "    <tr>\n",
       "      <th>5819078</th>\n",
       "      <td>28.0</td>\n",
       "      <td>221.0</td>\n",
       "      <td>208.0</td>\n",
       "      <td>189.0</td>\n",
       "      <td>1576</td>\n",
       "      <td>437.0</td>\n",
       "    </tr>\n",
       "  </tbody>\n",
       "</table>\n",
       "<p>5819079 rows × 6 columns</p>\n",
       "</div>"
      ],
      "text/plain": [
       "         WHEELS_OFF  SCHEDULED_TIME  ELAPSED_TIME  AIR_TIME  DISTANCE  \\\n",
       "0              15.0           205.0         194.0     169.0      1448   \n",
       "1              14.0           280.0         279.0     263.0      2330   \n",
       "2              34.0           286.0         293.0     266.0      2296   \n",
       "3              30.0           285.0         281.0     258.0      2342   \n",
       "4              35.0           235.0         215.0     199.0      1448   \n",
       "...             ...             ...           ...       ...       ...   \n",
       "5819074        17.0           320.0         298.0     272.0      2611   \n",
       "5819075        12.0           227.0         215.0     195.0      1617   \n",
       "5819076         7.0           221.0         222.0     197.0      1598   \n",
       "5819077         3.0           161.0         157.0     144.0      1189   \n",
       "5819078        28.0           221.0         208.0     189.0      1576   \n",
       "\n",
       "         WHEELS_ON  \n",
       "0            404.0  \n",
       "1            737.0  \n",
       "2            800.0  \n",
       "3            748.0  \n",
       "4            254.0  \n",
       "...            ...  \n",
       "5819074      749.0  \n",
       "5819075      427.0  \n",
       "5819076      424.0  \n",
       "5819077      327.0  \n",
       "5819078      437.0  \n",
       "\n",
       "[5819079 rows x 6 columns]"
      ]
     },
     "execution_count": 18,
     "metadata": {},
     "output_type": "execute_result"
    }
   ],
   "source": [
    "flights_df[['WHEELS_OFF', 'SCHEDULED_TIME', 'ELAPSED_TIME', 'AIR_TIME', 'DISTANCE','WHEELS_ON']]"
   ]
  },
  {
   "cell_type": "code",
   "execution_count": 19,
   "metadata": {},
   "outputs": [
    {
     "data": {
      "image/png": "[encoded data removed]",
      "text/plain": [
       "<Figure size 1008x720 with 2 Axes>"
      ]
     },
     "metadata": {
      "needs_background": "light"
     },
     "output_type": "display_data"
    }
   ],
   "source": [
    "numerical_columns = flights_df.select_dtypes(include=[np.number])\n",
    "\n",
    "correlation_matrix = numerical_columns.corr()\n",
    "\n",
    "# Plot the heatmap\n",
    "plt.figure(figsize=(14, 10))\n",
    "sns.heatmap(correlation_matrix, annot=True, cmap='coolwarm', fmt=\".2f\")\n",
    "plt.title('Correlation Heatmap of Numerical Columns')\n",
    "plt.show()"
   ]
  },
  {
   "cell_type": "code",
   "execution_count": 20,
   "metadata": {},
   "outputs": [
    {
     "data": {
      "text/plain": [
       "<Axes: >"
      ]
     },
     "execution_count": 20,
     "metadata": {},
     "output_type": "execute_result"
    },
    {
     "data": {
      "image/png": "[encoded data removed]",
      "text/plain": [
       "<Figure size 432x288 with 1 Axes>"
      ]
     },
     "metadata": {
      "needs_background": "light"
     },
     "output_type": "display_data"
    }
   ],
   "source": [
    "flights_df['FLIGHT_NUMBER'].hist()"
   ]
  },
  {
   "cell_type": "code",
   "execution_count": 21,
   "metadata": {},
   "outputs": [
    {
     "data": {
      "text/plain": [
       "array([  5,  10,  20, ..., 421, 337, 409], dtype=int64)"
      ]
     },
     "execution_count": 21,
     "metadata": {},
     "output_type": "execute_result"
    }
   ],
   "source": [
    "flights_df.SCHEDULED_DEPARTURE.unique()"
   ]
  },
  {
   "cell_type": "code",
   "execution_count": 22,
   "metadata": {},
   "outputs": [
    {
     "data": {
      "text/plain": [
       "False"
      ]
     },
     "execution_count": 22,
     "metadata": {},
     "output_type": "execute_result"
    }
   ],
   "source": [
    "flights_df.SCHEDULED_DEPARTURE.isna().any()"
   ]
  },
  {
   "cell_type": "code",
   "execution_count": 23,
   "metadata": {},
   "outputs": [
    {
     "name": "stdout",
     "output_type": "stream",
     "text": [
      "<class 'pandas.core.frame.DataFrame'>\n",
      "RangeIndex: 5819079 entries, 0 to 5819078\n",
      "Data columns (total 30 columns):\n",
      " #   Column               Dtype  \n",
      "---  ------               -----  \n",
      " 0   MONTH                int64  \n",
      " 1   DAY                  int64  \n",
      " 2   DAY_OF_WEEK          int64  \n",
      " 3   AIRLINE              object \n",
      " 4   FLIGHT_NUMBER        int64  \n",
      " 5   TAIL_NUMBER          object \n",
      " 6   ORIGIN_AIRPORT       object \n",
      " 7   DESTINATION_AIRPORT  object \n",
      " 8   SCHEDULED_DEPARTURE  int64  \n",
      " 9   DEPARTURE_TIME       float64\n",
      " 10  DEPARTURE_DELAY      float64\n",
      " 11  TAXI_OUT             float64\n",
      " 12  WHEELS_OFF           float64\n",
      " 13  SCHEDULED_TIME       float64\n",
      " 14  ELAPSED_TIME         float64\n",
      " 15  AIR_TIME             float64\n",
      " 16  DISTANCE             int64  \n",
      " 17  WHEELS_ON            float64\n",
      " 18  TAXI_IN              float64\n",
      " 19  SCHEDULED_ARRIVAL    int64  \n",
      " 20  ARRIVAL_TIME         float64\n",
      " 21  ARRIVAL_DELAY        float64\n",
      " 22  DIVERTED             int64  \n",
      " 23  CANCELLED            int64  \n",
      " 24  CANCELLATION_REASON  object \n",
      " 25  AIR_SYSTEM_DELAY     float64\n",
      " 26  SECURITY_DELAY       float64\n",
      " 27  AIRLINE_DELAY        float64\n",
      " 28  LATE_AIRCRAFT_DELAY  float64\n",
      " 29  WEATHER_DELAY        float64\n",
      "dtypes: float64(16), int64(9), object(5)\n",
      "memory usage: 1.3+ GB\n"
     ]
    }
   ],
   "source": [
    "flights_df.info()"
   ]
  },
  {
   "cell_type": "markdown",
   "metadata": {},
   "source": [
    "No missing data in the column DAY, Also there are more flights in the last few days of the month (27th through 30th)"
   ]
  },
  {
   "cell_type": "code",
   "execution_count": 24,
   "metadata": {},
   "outputs": [
    {
     "data": {
      "text/html": [
       "<div>\n",
       "<style scoped>\n",
       "    .dataframe tbody tr th:only-of-type {\n",
       "        vertical-align: middle;\n",
       "    }\n",
       "\n",
       "    .dataframe tbody tr th {\n",
       "        vertical-align: top;\n",
       "    }\n",
       "\n",
       "    .dataframe thead th {\n",
       "        text-align: right;\n",
       "    }\n",
       "</style>\n",
       "<table border=\"1\" class=\"dataframe\">\n",
       "  <thead>\n",
       "    <tr style=\"text-align: right;\">\n",
       "      <th></th>\n",
       "      <th>IATA_CODE</th>\n",
       "      <th>AIRPORT</th>\n",
       "      <th>CITY</th>\n",
       "      <th>STATE</th>\n",
       "      <th>COUNTRY</th>\n",
       "      <th>LATITUDE</th>\n",
       "      <th>LONGITUDE</th>\n",
       "    </tr>\n",
       "  </thead>\n",
       "  <tbody>\n",
       "    <tr>\n",
       "      <th>0</th>\n",
       "      <td>ABE</td>\n",
       "      <td>Lehigh Valley International Airport</td>\n",
       "      <td>Allentown</td>\n",
       "      <td>PA</td>\n",
       "      <td>USA</td>\n",
       "      <td>40.65236</td>\n",
       "      <td>-75.44040</td>\n",
       "    </tr>\n",
       "    <tr>\n",
       "      <th>1</th>\n",
       "      <td>ABI</td>\n",
       "      <td>Abilene Regional Airport</td>\n",
       "      <td>Abilene</td>\n",
       "      <td>TX</td>\n",
       "      <td>USA</td>\n",
       "      <td>32.41132</td>\n",
       "      <td>-99.68190</td>\n",
       "    </tr>\n",
       "    <tr>\n",
       "      <th>2</th>\n",
       "      <td>ABQ</td>\n",
       "      <td>Albuquerque International Sunport</td>\n",
       "      <td>Albuquerque</td>\n",
       "      <td>NM</td>\n",
       "      <td>USA</td>\n",
       "      <td>35.04022</td>\n",
       "      <td>-106.60919</td>\n",
       "    </tr>\n",
       "    <tr>\n",
       "      <th>3</th>\n",
       "      <td>ABR</td>\n",
       "      <td>Aberdeen Regional Airport</td>\n",
       "      <td>Aberdeen</td>\n",
       "      <td>SD</td>\n",
       "      <td>USA</td>\n",
       "      <td>45.44906</td>\n",
       "      <td>-98.42183</td>\n",
       "    </tr>\n",
       "    <tr>\n",
       "      <th>4</th>\n",
       "      <td>ABY</td>\n",
       "      <td>Southwest Georgia Regional Airport</td>\n",
       "      <td>Albany</td>\n",
       "      <td>GA</td>\n",
       "      <td>USA</td>\n",
       "      <td>31.53552</td>\n",
       "      <td>-84.19447</td>\n",
       "    </tr>\n",
       "  </tbody>\n",
       "</table>\n",
       "</div>"
      ],
      "text/plain": [
       "  IATA_CODE                              AIRPORT         CITY STATE COUNTRY  \\\n",
       "0       ABE  Lehigh Valley International Airport    Allentown    PA     USA   \n",
       "1       ABI             Abilene Regional Airport      Abilene    TX     USA   \n",
       "2       ABQ    Albuquerque International Sunport  Albuquerque    NM     USA   \n",
       "3       ABR            Aberdeen Regional Airport     Aberdeen    SD     USA   \n",
       "4       ABY   Southwest Georgia Regional Airport       Albany    GA     USA   \n",
       "\n",
       "   LATITUDE  LONGITUDE  \n",
       "0  40.65236  -75.44040  \n",
       "1  32.41132  -99.68190  \n",
       "2  35.04022 -106.60919  \n",
       "3  45.44906  -98.42183  \n",
       "4  31.53552  -84.19447  "
      ]
     },
     "execution_count": 24,
     "metadata": {},
     "output_type": "execute_result"
    }
   ],
   "source": [
    "airports_df.head()"
   ]
  },
  {
   "cell_type": "code",
   "execution_count": 25,
   "metadata": {},
   "outputs": [
    {
     "data": {
      "text/html": [
       "<div>\n",
       "<style scoped>\n",
       "    .dataframe tbody tr th:only-of-type {\n",
       "        vertical-align: middle;\n",
       "    }\n",
       "\n",
       "    .dataframe tbody tr th {\n",
       "        vertical-align: top;\n",
       "    }\n",
       "\n",
       "    .dataframe thead th {\n",
       "        text-align: right;\n",
       "    }\n",
       "</style>\n",
       "<table border=\"1\" class=\"dataframe\">\n",
       "  <thead>\n",
       "    <tr style=\"text-align: right;\">\n",
       "      <th></th>\n",
       "      <th>IATA_CODE</th>\n",
       "      <th>AIRLINE</th>\n",
       "    </tr>\n",
       "  </thead>\n",
       "  <tbody>\n",
       "    <tr>\n",
       "      <th>0</th>\n",
       "      <td>UA</td>\n",
       "      <td>United Air Lines Inc.</td>\n",
       "    </tr>\n",
       "    <tr>\n",
       "      <th>1</th>\n",
       "      <td>AA</td>\n",
       "      <td>American Airlines Inc.</td>\n",
       "    </tr>\n",
       "    <tr>\n",
       "      <th>2</th>\n",
       "      <td>US</td>\n",
       "      <td>US Airways Inc.</td>\n",
       "    </tr>\n",
       "    <tr>\n",
       "      <th>3</th>\n",
       "      <td>F9</td>\n",
       "      <td>Frontier Airlines Inc.</td>\n",
       "    </tr>\n",
       "    <tr>\n",
       "      <th>4</th>\n",
       "      <td>B6</td>\n",
       "      <td>JetBlue Airways</td>\n",
       "    </tr>\n",
       "  </tbody>\n",
       "</table>\n",
       "</div>"
      ],
      "text/plain": [
       "  IATA_CODE                 AIRLINE\n",
       "0        UA   United Air Lines Inc.\n",
       "1        AA  American Airlines Inc.\n",
       "2        US         US Airways Inc.\n",
       "3        F9  Frontier Airlines Inc.\n",
       "4        B6         JetBlue Airways"
      ]
     },
     "execution_count": 25,
     "metadata": {},
     "output_type": "execute_result"
    }
   ],
   "source": [
    "airlines_df.head()"
   ]
  },
  {
   "cell_type": "code",
   "execution_count": 26,
   "metadata": {},
   "outputs": [
    {
     "data": {
      "text/plain": [
       "Index(['MONTH', 'DAY', 'DAY_OF_WEEK', 'AIRLINE', 'FLIGHT_NUMBER',\n",
       "       'TAIL_NUMBER', 'ORIGIN_AIRPORT', 'DESTINATION_AIRPORT',\n",
       "       'SCHEDULED_DEPARTURE', 'DEPARTURE_TIME', 'DEPARTURE_DELAY', 'TAXI_OUT',\n",
       "       'WHEELS_OFF', 'SCHEDULED_TIME', 'ELAPSED_TIME', 'AIR_TIME', 'DISTANCE',\n",
       "       'WHEELS_ON', 'TAXI_IN', 'SCHEDULED_ARRIVAL', 'ARRIVAL_TIME',\n",
       "       'ARRIVAL_DELAY', 'DIVERTED', 'CANCELLED', 'CANCELLATION_REASON',\n",
       "       'AIR_SYSTEM_DELAY', 'SECURITY_DELAY', 'AIRLINE_DELAY',\n",
       "       'LATE_AIRCRAFT_DELAY', 'WEATHER_DELAY'],\n",
       "      dtype='object')"
      ]
     },
     "execution_count": 26,
     "metadata": {},
     "output_type": "execute_result"
    }
   ],
   "source": [
    "flights_df.columns"
   ]
  },
  {
   "cell_type": "markdown",
   "metadata": {},
   "source": [
    "Cancellation Codes\n",
    "\n",
    "* (A) Air Carrier;\n",
    "* (B) Extreme Weather;\n",
    "* (C) National Aviation System (NAS); and\n",
    "* (D) Security."
   ]
  },
  {
   "cell_type": "code",
   "execution_count": 27,
   "metadata": {},
   "outputs": [
    {
     "data": {
      "text/plain": [
       "array([nan, 'A', 'B', 'C', 'D'], dtype=object)"
      ]
     },
     "execution_count": 27,
     "metadata": {},
     "output_type": "execute_result"
    }
   ],
   "source": [
    "flights_df.CANCELLATION_REASON.unique()"
   ]
  },
  {
   "cell_type": "code",
   "execution_count": 28,
   "metadata": {},
   "outputs": [
    {
     "data": {
      "text/plain": [
       "0          True\n",
       "1          True\n",
       "2          True\n",
       "3          True\n",
       "4          True\n",
       "           ... \n",
       "5819074    True\n",
       "5819075    True\n",
       "5819076    True\n",
       "5819077    True\n",
       "5819078    True\n",
       "Name: CANCELLATION_REASON, Length: 5819079, dtype: bool"
      ]
     },
     "execution_count": 28,
     "metadata": {},
     "output_type": "execute_result"
    }
   ],
   "source": [
    "flights_df['CANCELLATION_REASON'].isna()"
   ]
  },
  {
   "cell_type": "code",
   "execution_count": 29,
   "metadata": {},
   "outputs": [],
   "source": [
    "flights_df['CANCELLATION_REASON'] = flights_df['CANCELLATION_REASON'].fillna('Not Canceled')"
   ]
  },
  {
   "cell_type": "code",
   "execution_count": 30,
   "metadata": {},
   "outputs": [
    {
     "data": {
      "text/plain": [
       "array(['Not Canceled', 'A', 'B', 'C', 'D'], dtype=object)"
      ]
     },
     "execution_count": 30,
     "metadata": {},
     "output_type": "execute_result"
    }
   ],
   "source": [
    "flights_df.CANCELLATION_REASON.unique()"
   ]
  },
  {
   "cell_type": "code",
   "execution_count": 31,
   "metadata": {},
   "outputs": [
    {
     "data": {
      "text/plain": [
       "MONTH                  False\n",
       "DAY                    False\n",
       "DAY_OF_WEEK            False\n",
       "AIRLINE                False\n",
       "FLIGHT_NUMBER          False\n",
       "TAIL_NUMBER             True\n",
       "ORIGIN_AIRPORT         False\n",
       "DESTINATION_AIRPORT    False\n",
       "SCHEDULED_DEPARTURE    False\n",
       "DEPARTURE_TIME          True\n",
       "DEPARTURE_DELAY         True\n",
       "TAXI_OUT                True\n",
       "WHEELS_OFF              True\n",
       "SCHEDULED_TIME          True\n",
       "ELAPSED_TIME            True\n",
       "AIR_TIME                True\n",
       "DISTANCE               False\n",
       "WHEELS_ON               True\n",
       "TAXI_IN                 True\n",
       "SCHEDULED_ARRIVAL      False\n",
       "ARRIVAL_TIME            True\n",
       "ARRIVAL_DELAY           True\n",
       "DIVERTED               False\n",
       "CANCELLED              False\n",
       "CANCELLATION_REASON    False\n",
       "AIR_SYSTEM_DELAY        True\n",
       "SECURITY_DELAY          True\n",
       "AIRLINE_DELAY           True\n",
       "LATE_AIRCRAFT_DELAY     True\n",
       "WEATHER_DELAY           True\n",
       "dtype: bool"
      ]
     },
     "execution_count": 31,
     "metadata": {},
     "output_type": "execute_result"
    }
   ],
   "source": [
    "flights_df.isna().any()"
   ]
  },
  {
   "cell_type": "markdown",
   "metadata": {},
   "source": [
    "Canceled Flights do not have departure time"
   ]
  },
  {
   "cell_type": "code",
   "execution_count": 32,
   "metadata": {},
   "outputs": [
    {
     "data": {
      "text/plain": [
       "array([1], dtype=int64)"
      ]
     },
     "execution_count": 32,
     "metadata": {},
     "output_type": "execute_result"
    }
   ],
   "source": [
    "flights_df[flights_df['DEPARTURE_TIME'].isna()]['CANCELLED'].unique()"
   ]
  },
  {
   "cell_type": "code",
   "execution_count": 33,
   "metadata": {},
   "outputs": [
    {
     "data": {
      "text/html": [
       "<div>\n",
       "<style scoped>\n",
       "    .dataframe tbody tr th:only-of-type {\n",
       "        vertical-align: middle;\n",
       "    }\n",
       "\n",
       "    .dataframe tbody tr th {\n",
       "        vertical-align: top;\n",
       "    }\n",
       "\n",
       "    .dataframe thead th {\n",
       "        text-align: right;\n",
       "    }\n",
       "</style>\n",
       "<table border=\"1\" class=\"dataframe\">\n",
       "  <thead>\n",
       "    <tr style=\"text-align: right;\">\n",
       "      <th></th>\n",
       "      <th>MONTH</th>\n",
       "      <th>DAY</th>\n",
       "      <th>DAY_OF_WEEK</th>\n",
       "      <th>AIRLINE</th>\n",
       "      <th>FLIGHT_NUMBER</th>\n",
       "      <th>TAIL_NUMBER</th>\n",
       "      <th>ORIGIN_AIRPORT</th>\n",
       "      <th>DESTINATION_AIRPORT</th>\n",
       "      <th>SCHEDULED_DEPARTURE</th>\n",
       "      <th>DEPARTURE_TIME</th>\n",
       "      <th>...</th>\n",
       "      <th>ARRIVAL_TIME</th>\n",
       "      <th>ARRIVAL_DELAY</th>\n",
       "      <th>DIVERTED</th>\n",
       "      <th>CANCELLED</th>\n",
       "      <th>CANCELLATION_REASON</th>\n",
       "      <th>AIR_SYSTEM_DELAY</th>\n",
       "      <th>SECURITY_DELAY</th>\n",
       "      <th>AIRLINE_DELAY</th>\n",
       "      <th>LATE_AIRCRAFT_DELAY</th>\n",
       "      <th>WEATHER_DELAY</th>\n",
       "    </tr>\n",
       "  </thead>\n",
       "  <tbody>\n",
       "    <tr>\n",
       "      <th>32</th>\n",
       "      <td>1</td>\n",
       "      <td>1</td>\n",
       "      <td>4</td>\n",
       "      <td>AS</td>\n",
       "      <td>136</td>\n",
       "      <td>N431AS</td>\n",
       "      <td>ANC</td>\n",
       "      <td>SEA</td>\n",
       "      <td>135</td>\n",
       "      <td>NaN</td>\n",
       "      <td>...</td>\n",
       "      <td>NaN</td>\n",
       "      <td>NaN</td>\n",
       "      <td>0</td>\n",
       "      <td>1</td>\n",
       "      <td>A</td>\n",
       "      <td>NaN</td>\n",
       "      <td>NaN</td>\n",
       "      <td>NaN</td>\n",
       "      <td>NaN</td>\n",
       "      <td>NaN</td>\n",
       "    </tr>\n",
       "    <tr>\n",
       "      <th>42</th>\n",
       "      <td>1</td>\n",
       "      <td>1</td>\n",
       "      <td>4</td>\n",
       "      <td>AA</td>\n",
       "      <td>2459</td>\n",
       "      <td>N3BDAA</td>\n",
       "      <td>PHX</td>\n",
       "      <td>DFW</td>\n",
       "      <td>200</td>\n",
       "      <td>NaN</td>\n",
       "      <td>...</td>\n",
       "      <td>NaN</td>\n",
       "      <td>NaN</td>\n",
       "      <td>0</td>\n",
       "      <td>1</td>\n",
       "      <td>B</td>\n",
       "      <td>NaN</td>\n",
       "      <td>NaN</td>\n",
       "      <td>NaN</td>\n",
       "      <td>NaN</td>\n",
       "      <td>NaN</td>\n",
       "    </tr>\n",
       "    <tr>\n",
       "      <th>68</th>\n",
       "      <td>1</td>\n",
       "      <td>1</td>\n",
       "      <td>4</td>\n",
       "      <td>OO</td>\n",
       "      <td>5254</td>\n",
       "      <td>N746SK</td>\n",
       "      <td>MAF</td>\n",
       "      <td>IAH</td>\n",
       "      <td>510</td>\n",
       "      <td>NaN</td>\n",
       "      <td>...</td>\n",
       "      <td>NaN</td>\n",
       "      <td>NaN</td>\n",
       "      <td>0</td>\n",
       "      <td>1</td>\n",
       "      <td>B</td>\n",
       "      <td>NaN</td>\n",
       "      <td>NaN</td>\n",
       "      <td>NaN</td>\n",
       "      <td>NaN</td>\n",
       "      <td>NaN</td>\n",
       "    </tr>\n",
       "    <tr>\n",
       "      <th>82</th>\n",
       "      <td>1</td>\n",
       "      <td>1</td>\n",
       "      <td>4</td>\n",
       "      <td>MQ</td>\n",
       "      <td>2859</td>\n",
       "      <td>N660MQ</td>\n",
       "      <td>SGF</td>\n",
       "      <td>DFW</td>\n",
       "      <td>525</td>\n",
       "      <td>NaN</td>\n",
       "      <td>...</td>\n",
       "      <td>NaN</td>\n",
       "      <td>NaN</td>\n",
       "      <td>0</td>\n",
       "      <td>1</td>\n",
       "      <td>B</td>\n",
       "      <td>NaN</td>\n",
       "      <td>NaN</td>\n",
       "      <td>NaN</td>\n",
       "      <td>NaN</td>\n",
       "      <td>NaN</td>\n",
       "    </tr>\n",
       "    <tr>\n",
       "      <th>90</th>\n",
       "      <td>1</td>\n",
       "      <td>1</td>\n",
       "      <td>4</td>\n",
       "      <td>OO</td>\n",
       "      <td>5460</td>\n",
       "      <td>N583SW</td>\n",
       "      <td>RDD</td>\n",
       "      <td>SFO</td>\n",
       "      <td>530</td>\n",
       "      <td>NaN</td>\n",
       "      <td>...</td>\n",
       "      <td>NaN</td>\n",
       "      <td>NaN</td>\n",
       "      <td>0</td>\n",
       "      <td>1</td>\n",
       "      <td>A</td>\n",
       "      <td>NaN</td>\n",
       "      <td>NaN</td>\n",
       "      <td>NaN</td>\n",
       "      <td>NaN</td>\n",
       "      <td>NaN</td>\n",
       "    </tr>\n",
       "    <tr>\n",
       "      <th>...</th>\n",
       "      <td>...</td>\n",
       "      <td>...</td>\n",
       "      <td>...</td>\n",
       "      <td>...</td>\n",
       "      <td>...</td>\n",
       "      <td>...</td>\n",
       "      <td>...</td>\n",
       "      <td>...</td>\n",
       "      <td>...</td>\n",
       "      <td>...</td>\n",
       "      <td>...</td>\n",
       "      <td>...</td>\n",
       "      <td>...</td>\n",
       "      <td>...</td>\n",
       "      <td>...</td>\n",
       "      <td>...</td>\n",
       "      <td>...</td>\n",
       "      <td>...</td>\n",
       "      <td>...</td>\n",
       "      <td>...</td>\n",
       "      <td>...</td>\n",
       "    </tr>\n",
       "    <tr>\n",
       "      <th>5818090</th>\n",
       "      <td>12</td>\n",
       "      <td>31</td>\n",
       "      <td>4</td>\n",
       "      <td>UA</td>\n",
       "      <td>1789</td>\n",
       "      <td>NaN</td>\n",
       "      <td>IAH</td>\n",
       "      <td>TPA</td>\n",
       "      <td>1955</td>\n",
       "      <td>NaN</td>\n",
       "      <td>...</td>\n",
       "      <td>NaN</td>\n",
       "      <td>NaN</td>\n",
       "      <td>0</td>\n",
       "      <td>1</td>\n",
       "      <td>A</td>\n",
       "      <td>NaN</td>\n",
       "      <td>NaN</td>\n",
       "      <td>NaN</td>\n",
       "      <td>NaN</td>\n",
       "      <td>NaN</td>\n",
       "    </tr>\n",
       "    <tr>\n",
       "      <th>5818157</th>\n",
       "      <td>12</td>\n",
       "      <td>31</td>\n",
       "      <td>4</td>\n",
       "      <td>UA</td>\n",
       "      <td>222</td>\n",
       "      <td>NaN</td>\n",
       "      <td>SFO</td>\n",
       "      <td>LAX</td>\n",
       "      <td>2000</td>\n",
       "      <td>NaN</td>\n",
       "      <td>...</td>\n",
       "      <td>NaN</td>\n",
       "      <td>NaN</td>\n",
       "      <td>0</td>\n",
       "      <td>1</td>\n",
       "      <td>A</td>\n",
       "      <td>NaN</td>\n",
       "      <td>NaN</td>\n",
       "      <td>NaN</td>\n",
       "      <td>NaN</td>\n",
       "      <td>NaN</td>\n",
       "    </tr>\n",
       "    <tr>\n",
       "      <th>5818318</th>\n",
       "      <td>12</td>\n",
       "      <td>31</td>\n",
       "      <td>4</td>\n",
       "      <td>AA</td>\n",
       "      <td>2245</td>\n",
       "      <td>N880AA</td>\n",
       "      <td>MIA</td>\n",
       "      <td>SAN</td>\n",
       "      <td>2019</td>\n",
       "      <td>NaN</td>\n",
       "      <td>...</td>\n",
       "      <td>NaN</td>\n",
       "      <td>NaN</td>\n",
       "      <td>0</td>\n",
       "      <td>1</td>\n",
       "      <td>A</td>\n",
       "      <td>NaN</td>\n",
       "      <td>NaN</td>\n",
       "      <td>NaN</td>\n",
       "      <td>NaN</td>\n",
       "      <td>NaN</td>\n",
       "    </tr>\n",
       "    <tr>\n",
       "      <th>5818777</th>\n",
       "      <td>12</td>\n",
       "      <td>31</td>\n",
       "      <td>4</td>\n",
       "      <td>NK</td>\n",
       "      <td>416</td>\n",
       "      <td>N522NK</td>\n",
       "      <td>FLL</td>\n",
       "      <td>IAG</td>\n",
       "      <td>2155</td>\n",
       "      <td>NaN</td>\n",
       "      <td>...</td>\n",
       "      <td>NaN</td>\n",
       "      <td>NaN</td>\n",
       "      <td>0</td>\n",
       "      <td>1</td>\n",
       "      <td>A</td>\n",
       "      <td>NaN</td>\n",
       "      <td>NaN</td>\n",
       "      <td>NaN</td>\n",
       "      <td>NaN</td>\n",
       "      <td>NaN</td>\n",
       "    </tr>\n",
       "    <tr>\n",
       "      <th>5818843</th>\n",
       "      <td>12</td>\n",
       "      <td>31</td>\n",
       "      <td>4</td>\n",
       "      <td>AA</td>\n",
       "      <td>1042</td>\n",
       "      <td>N870AA</td>\n",
       "      <td>SAN</td>\n",
       "      <td>MIA</td>\n",
       "      <td>2210</td>\n",
       "      <td>NaN</td>\n",
       "      <td>...</td>\n",
       "      <td>NaN</td>\n",
       "      <td>NaN</td>\n",
       "      <td>0</td>\n",
       "      <td>1</td>\n",
       "      <td>A</td>\n",
       "      <td>NaN</td>\n",
       "      <td>NaN</td>\n",
       "      <td>NaN</td>\n",
       "      <td>NaN</td>\n",
       "      <td>NaN</td>\n",
       "    </tr>\n",
       "  </tbody>\n",
       "</table>\n",
       "<p>86153 rows × 30 columns</p>\n",
       "</div>"
      ],
      "text/plain": [
       "         MONTH  DAY  DAY_OF_WEEK AIRLINE  FLIGHT_NUMBER TAIL_NUMBER  \\\n",
       "32           1    1            4      AS            136      N431AS   \n",
       "42           1    1            4      AA           2459      N3BDAA   \n",
       "68           1    1            4      OO           5254      N746SK   \n",
       "82           1    1            4      MQ           2859      N660MQ   \n",
       "90           1    1            4      OO           5460      N583SW   \n",
       "...        ...  ...          ...     ...            ...         ...   \n",
       "5818090     12   31            4      UA           1789         NaN   \n",
       "5818157     12   31            4      UA            222         NaN   \n",
       "5818318     12   31            4      AA           2245      N880AA   \n",
       "5818777     12   31            4      NK            416      N522NK   \n",
       "5818843     12   31            4      AA           1042      N870AA   \n",
       "\n",
       "        ORIGIN_AIRPORT DESTINATION_AIRPORT  SCHEDULED_DEPARTURE  \\\n",
       "32                 ANC                 SEA                  135   \n",
       "42                 PHX                 DFW                  200   \n",
       "68                 MAF                 IAH                  510   \n",
       "82                 SGF                 DFW                  525   \n",
       "90                 RDD                 SFO                  530   \n",
       "...                ...                 ...                  ...   \n",
       "5818090            IAH                 TPA                 1955   \n",
       "5818157            SFO                 LAX                 2000   \n",
       "5818318            MIA                 SAN                 2019   \n",
       "5818777            FLL                 IAG                 2155   \n",
       "5818843            SAN                 MIA                 2210   \n",
       "\n",
       "         DEPARTURE_TIME  ...  ARRIVAL_TIME  ARRIVAL_DELAY  DIVERTED  \\\n",
       "32                  NaN  ...           NaN            NaN         0   \n",
       "42                  NaN  ...           NaN            NaN         0   \n",
       "68                  NaN  ...           NaN            NaN         0   \n",
       "82                  NaN  ...           NaN            NaN         0   \n",
       "90                  NaN  ...           NaN            NaN         0   \n",
       "...                 ...  ...           ...            ...       ...   \n",
       "5818090             NaN  ...           NaN            NaN         0   \n",
       "5818157             NaN  ...           NaN            NaN         0   \n",
       "5818318             NaN  ...           NaN            NaN         0   \n",
       "5818777             NaN  ...           NaN            NaN         0   \n",
       "5818843             NaN  ...           NaN            NaN         0   \n",
       "\n",
       "         CANCELLED  CANCELLATION_REASON  AIR_SYSTEM_DELAY  SECURITY_DELAY  \\\n",
       "32               1                    A               NaN             NaN   \n",
       "42               1                    B               NaN             NaN   \n",
       "68               1                    B               NaN             NaN   \n",
       "82               1                    B               NaN             NaN   \n",
       "90               1                    A               NaN             NaN   \n",
       "...            ...                  ...               ...             ...   \n",
       "5818090          1                    A               NaN             NaN   \n",
       "5818157          1                    A               NaN             NaN   \n",
       "5818318          1                    A               NaN             NaN   \n",
       "5818777          1                    A               NaN             NaN   \n",
       "5818843          1                    A               NaN             NaN   \n",
       "\n",
       "         AIRLINE_DELAY  LATE_AIRCRAFT_DELAY  WEATHER_DELAY  \n",
       "32                 NaN                  NaN            NaN  \n",
       "42                 NaN                  NaN            NaN  \n",
       "68                 NaN                  NaN            NaN  \n",
       "82                 NaN                  NaN            NaN  \n",
       "90                 NaN                  NaN            NaN  \n",
       "...                ...                  ...            ...  \n",
       "5818090            NaN                  NaN            NaN  \n",
       "5818157            NaN                  NaN            NaN  \n",
       "5818318            NaN                  NaN            NaN  \n",
       "5818777            NaN                  NaN            NaN  \n",
       "5818843            NaN                  NaN            NaN  \n",
       "\n",
       "[86153 rows x 30 columns]"
      ]
     },
     "execution_count": 33,
     "metadata": {},
     "output_type": "execute_result"
    }
   ],
   "source": [
    "flights_df[flights_df['DEPARTURE_TIME'].isna()]"
   ]
  },
  {
   "cell_type": "code",
   "execution_count": 34,
   "metadata": {},
   "outputs": [],
   "source": [
    "cancelled_flights = flights_df[flights_df['DEPARTURE_TIME'].isna()]"
   ]
  },
  {
   "cell_type": "code",
   "execution_count": 35,
   "metadata": {},
   "outputs": [],
   "source": [
    "df = flights_df[~flights_df['DEPARTURE_TIME'].isna()]"
   ]
  },
  {
   "cell_type": "code",
   "execution_count": 36,
   "metadata": {},
   "outputs": [
    {
     "data": {
      "text/plain": [
       "MONTH                  False\n",
       "DAY                    False\n",
       "DAY_OF_WEEK            False\n",
       "AIRLINE                False\n",
       "FLIGHT_NUMBER          False\n",
       "TAIL_NUMBER            False\n",
       "ORIGIN_AIRPORT         False\n",
       "DESTINATION_AIRPORT    False\n",
       "SCHEDULED_DEPARTURE    False\n",
       "DEPARTURE_TIME         False\n",
       "DEPARTURE_DELAY        False\n",
       "TAXI_OUT                True\n",
       "WHEELS_OFF              True\n",
       "SCHEDULED_TIME          True\n",
       "ELAPSED_TIME            True\n",
       "AIR_TIME                True\n",
       "DISTANCE               False\n",
       "WHEELS_ON               True\n",
       "TAXI_IN                 True\n",
       "SCHEDULED_ARRIVAL      False\n",
       "ARRIVAL_TIME            True\n",
       "ARRIVAL_DELAY           True\n",
       "DIVERTED               False\n",
       "CANCELLED              False\n",
       "CANCELLATION_REASON    False\n",
       "AIR_SYSTEM_DELAY        True\n",
       "SECURITY_DELAY          True\n",
       "AIRLINE_DELAY           True\n",
       "LATE_AIRCRAFT_DELAY     True\n",
       "WEATHER_DELAY           True\n",
       "dtype: bool"
      ]
     },
     "execution_count": 36,
     "metadata": {},
     "output_type": "execute_result"
    }
   ],
   "source": [
    "df.isna().any()"
   ]
  },
  {
   "cell_type": "code",
   "execution_count": 37,
   "metadata": {},
   "outputs": [
    {
     "data": {
      "text/html": [
       "<div>\n",
       "<style scoped>\n",
       "    .dataframe tbody tr th:only-of-type {\n",
       "        vertical-align: middle;\n",
       "    }\n",
       "\n",
       "    .dataframe tbody tr th {\n",
       "        vertical-align: top;\n",
       "    }\n",
       "\n",
       "    .dataframe thead th {\n",
       "        text-align: right;\n",
       "    }\n",
       "</style>\n",
       "<table border=\"1\" class=\"dataframe\">\n",
       "  <thead>\n",
       "    <tr style=\"text-align: right;\">\n",
       "      <th></th>\n",
       "      <th>MONTH</th>\n",
       "      <th>DAY</th>\n",
       "      <th>DAY_OF_WEEK</th>\n",
       "      <th>AIRLINE</th>\n",
       "      <th>FLIGHT_NUMBER</th>\n",
       "      <th>TAIL_NUMBER</th>\n",
       "      <th>ORIGIN_AIRPORT</th>\n",
       "      <th>DESTINATION_AIRPORT</th>\n",
       "      <th>SCHEDULED_DEPARTURE</th>\n",
       "      <th>DEPARTURE_TIME</th>\n",
       "      <th>...</th>\n",
       "      <th>ARRIVAL_TIME</th>\n",
       "      <th>ARRIVAL_DELAY</th>\n",
       "      <th>DIVERTED</th>\n",
       "      <th>CANCELLED</th>\n",
       "      <th>CANCELLATION_REASON</th>\n",
       "      <th>AIR_SYSTEM_DELAY</th>\n",
       "      <th>SECURITY_DELAY</th>\n",
       "      <th>AIRLINE_DELAY</th>\n",
       "      <th>LATE_AIRCRAFT_DELAY</th>\n",
       "      <th>WEATHER_DELAY</th>\n",
       "    </tr>\n",
       "  </thead>\n",
       "  <tbody>\n",
       "    <tr>\n",
       "      <th>0</th>\n",
       "      <td>1</td>\n",
       "      <td>1</td>\n",
       "      <td>4</td>\n",
       "      <td>AS</td>\n",
       "      <td>98</td>\n",
       "      <td>N407AS</td>\n",
       "      <td>ANC</td>\n",
       "      <td>SEA</td>\n",
       "      <td>5</td>\n",
       "      <td>2354.0</td>\n",
       "      <td>...</td>\n",
       "      <td>408.0</td>\n",
       "      <td>-22.0</td>\n",
       "      <td>0</td>\n",
       "      <td>0</td>\n",
       "      <td>Not Canceled</td>\n",
       "      <td>NaN</td>\n",
       "      <td>NaN</td>\n",
       "      <td>NaN</td>\n",
       "      <td>NaN</td>\n",
       "      <td>NaN</td>\n",
       "    </tr>\n",
       "    <tr>\n",
       "      <th>1</th>\n",
       "      <td>1</td>\n",
       "      <td>1</td>\n",
       "      <td>4</td>\n",
       "      <td>AA</td>\n",
       "      <td>2336</td>\n",
       "      <td>N3KUAA</td>\n",
       "      <td>LAX</td>\n",
       "      <td>PBI</td>\n",
       "      <td>10</td>\n",
       "      <td>2.0</td>\n",
       "      <td>...</td>\n",
       "      <td>741.0</td>\n",
       "      <td>-9.0</td>\n",
       "      <td>0</td>\n",
       "      <td>0</td>\n",
       "      <td>Not Canceled</td>\n",
       "      <td>NaN</td>\n",
       "      <td>NaN</td>\n",
       "      <td>NaN</td>\n",
       "      <td>NaN</td>\n",
       "      <td>NaN</td>\n",
       "    </tr>\n",
       "    <tr>\n",
       "      <th>2</th>\n",
       "      <td>1</td>\n",
       "      <td>1</td>\n",
       "      <td>4</td>\n",
       "      <td>US</td>\n",
       "      <td>840</td>\n",
       "      <td>N171US</td>\n",
       "      <td>SFO</td>\n",
       "      <td>CLT</td>\n",
       "      <td>20</td>\n",
       "      <td>18.0</td>\n",
       "      <td>...</td>\n",
       "      <td>811.0</td>\n",
       "      <td>5.0</td>\n",
       "      <td>0</td>\n",
       "      <td>0</td>\n",
       "      <td>Not Canceled</td>\n",
       "      <td>NaN</td>\n",
       "      <td>NaN</td>\n",
       "      <td>NaN</td>\n",
       "      <td>NaN</td>\n",
       "      <td>NaN</td>\n",
       "    </tr>\n",
       "    <tr>\n",
       "      <th>3</th>\n",
       "      <td>1</td>\n",
       "      <td>1</td>\n",
       "      <td>4</td>\n",
       "      <td>AA</td>\n",
       "      <td>258</td>\n",
       "      <td>N3HYAA</td>\n",
       "      <td>LAX</td>\n",
       "      <td>MIA</td>\n",
       "      <td>20</td>\n",
       "      <td>15.0</td>\n",
       "      <td>...</td>\n",
       "      <td>756.0</td>\n",
       "      <td>-9.0</td>\n",
       "      <td>0</td>\n",
       "      <td>0</td>\n",
       "      <td>Not Canceled</td>\n",
       "      <td>NaN</td>\n",
       "      <td>NaN</td>\n",
       "      <td>NaN</td>\n",
       "      <td>NaN</td>\n",
       "      <td>NaN</td>\n",
       "    </tr>\n",
       "    <tr>\n",
       "      <th>4</th>\n",
       "      <td>1</td>\n",
       "      <td>1</td>\n",
       "      <td>4</td>\n",
       "      <td>AS</td>\n",
       "      <td>135</td>\n",
       "      <td>N527AS</td>\n",
       "      <td>SEA</td>\n",
       "      <td>ANC</td>\n",
       "      <td>25</td>\n",
       "      <td>24.0</td>\n",
       "      <td>...</td>\n",
       "      <td>259.0</td>\n",
       "      <td>-21.0</td>\n",
       "      <td>0</td>\n",
       "      <td>0</td>\n",
       "      <td>Not Canceled</td>\n",
       "      <td>NaN</td>\n",
       "      <td>NaN</td>\n",
       "      <td>NaN</td>\n",
       "      <td>NaN</td>\n",
       "      <td>NaN</td>\n",
       "    </tr>\n",
       "    <tr>\n",
       "      <th>...</th>\n",
       "      <td>...</td>\n",
       "      <td>...</td>\n",
       "      <td>...</td>\n",
       "      <td>...</td>\n",
       "      <td>...</td>\n",
       "      <td>...</td>\n",
       "      <td>...</td>\n",
       "      <td>...</td>\n",
       "      <td>...</td>\n",
       "      <td>...</td>\n",
       "      <td>...</td>\n",
       "      <td>...</td>\n",
       "      <td>...</td>\n",
       "      <td>...</td>\n",
       "      <td>...</td>\n",
       "      <td>...</td>\n",
       "      <td>...</td>\n",
       "      <td>...</td>\n",
       "      <td>...</td>\n",
       "      <td>...</td>\n",
       "      <td>...</td>\n",
       "    </tr>\n",
       "    <tr>\n",
       "      <th>5819074</th>\n",
       "      <td>12</td>\n",
       "      <td>31</td>\n",
       "      <td>4</td>\n",
       "      <td>B6</td>\n",
       "      <td>688</td>\n",
       "      <td>N657JB</td>\n",
       "      <td>LAX</td>\n",
       "      <td>BOS</td>\n",
       "      <td>2359</td>\n",
       "      <td>2355.0</td>\n",
       "      <td>...</td>\n",
       "      <td>753.0</td>\n",
       "      <td>-26.0</td>\n",
       "      <td>0</td>\n",
       "      <td>0</td>\n",
       "      <td>Not Canceled</td>\n",
       "      <td>NaN</td>\n",
       "      <td>NaN</td>\n",
       "      <td>NaN</td>\n",
       "      <td>NaN</td>\n",
       "      <td>NaN</td>\n",
       "    </tr>\n",
       "    <tr>\n",
       "      <th>5819075</th>\n",
       "      <td>12</td>\n",
       "      <td>31</td>\n",
       "      <td>4</td>\n",
       "      <td>B6</td>\n",
       "      <td>745</td>\n",
       "      <td>N828JB</td>\n",
       "      <td>JFK</td>\n",
       "      <td>PSE</td>\n",
       "      <td>2359</td>\n",
       "      <td>2355.0</td>\n",
       "      <td>...</td>\n",
       "      <td>430.0</td>\n",
       "      <td>-16.0</td>\n",
       "      <td>0</td>\n",
       "      <td>0</td>\n",
       "      <td>Not Canceled</td>\n",
       "      <td>NaN</td>\n",
       "      <td>NaN</td>\n",
       "      <td>NaN</td>\n",
       "      <td>NaN</td>\n",
       "      <td>NaN</td>\n",
       "    </tr>\n",
       "    <tr>\n",
       "      <th>5819076</th>\n",
       "      <td>12</td>\n",
       "      <td>31</td>\n",
       "      <td>4</td>\n",
       "      <td>B6</td>\n",
       "      <td>1503</td>\n",
       "      <td>N913JB</td>\n",
       "      <td>JFK</td>\n",
       "      <td>SJU</td>\n",
       "      <td>2359</td>\n",
       "      <td>2350.0</td>\n",
       "      <td>...</td>\n",
       "      <td>432.0</td>\n",
       "      <td>-8.0</td>\n",
       "      <td>0</td>\n",
       "      <td>0</td>\n",
       "      <td>Not Canceled</td>\n",
       "      <td>NaN</td>\n",
       "      <td>NaN</td>\n",
       "      <td>NaN</td>\n",
       "      <td>NaN</td>\n",
       "      <td>NaN</td>\n",
       "    </tr>\n",
       "    <tr>\n",
       "      <th>5819077</th>\n",
       "      <td>12</td>\n",
       "      <td>31</td>\n",
       "      <td>4</td>\n",
       "      <td>B6</td>\n",
       "      <td>333</td>\n",
       "      <td>N527JB</td>\n",
       "      <td>MCO</td>\n",
       "      <td>SJU</td>\n",
       "      <td>2359</td>\n",
       "      <td>2353.0</td>\n",
       "      <td>...</td>\n",
       "      <td>330.0</td>\n",
       "      <td>-10.0</td>\n",
       "      <td>0</td>\n",
       "      <td>0</td>\n",
       "      <td>Not Canceled</td>\n",
       "      <td>NaN</td>\n",
       "      <td>NaN</td>\n",
       "      <td>NaN</td>\n",
       "      <td>NaN</td>\n",
       "      <td>NaN</td>\n",
       "    </tr>\n",
       "    <tr>\n",
       "      <th>5819078</th>\n",
       "      <td>12</td>\n",
       "      <td>31</td>\n",
       "      <td>4</td>\n",
       "      <td>B6</td>\n",
       "      <td>839</td>\n",
       "      <td>N534JB</td>\n",
       "      <td>JFK</td>\n",
       "      <td>BQN</td>\n",
       "      <td>2359</td>\n",
       "      <td>14.0</td>\n",
       "      <td>...</td>\n",
       "      <td>442.0</td>\n",
       "      <td>2.0</td>\n",
       "      <td>0</td>\n",
       "      <td>0</td>\n",
       "      <td>Not Canceled</td>\n",
       "      <td>NaN</td>\n",
       "      <td>NaN</td>\n",
       "      <td>NaN</td>\n",
       "      <td>NaN</td>\n",
       "      <td>NaN</td>\n",
       "    </tr>\n",
       "  </tbody>\n",
       "</table>\n",
       "<p>4755640 rows × 30 columns</p>\n",
       "</div>"
      ],
      "text/plain": [
       "         MONTH  DAY  DAY_OF_WEEK AIRLINE  FLIGHT_NUMBER TAIL_NUMBER  \\\n",
       "0            1    1            4      AS             98      N407AS   \n",
       "1            1    1            4      AA           2336      N3KUAA   \n",
       "2            1    1            4      US            840      N171US   \n",
       "3            1    1            4      AA            258      N3HYAA   \n",
       "4            1    1            4      AS            135      N527AS   \n",
       "...        ...  ...          ...     ...            ...         ...   \n",
       "5819074     12   31            4      B6            688      N657JB   \n",
       "5819075     12   31            4      B6            745      N828JB   \n",
       "5819076     12   31            4      B6           1503      N913JB   \n",
       "5819077     12   31            4      B6            333      N527JB   \n",
       "5819078     12   31            4      B6            839      N534JB   \n",
       "\n",
       "        ORIGIN_AIRPORT DESTINATION_AIRPORT  SCHEDULED_DEPARTURE  \\\n",
       "0                  ANC                 SEA                    5   \n",
       "1                  LAX                 PBI                   10   \n",
       "2                  SFO                 CLT                   20   \n",
       "3                  LAX                 MIA                   20   \n",
       "4                  SEA                 ANC                   25   \n",
       "...                ...                 ...                  ...   \n",
       "5819074            LAX                 BOS                 2359   \n",
       "5819075            JFK                 PSE                 2359   \n",
       "5819076            JFK                 SJU                 2359   \n",
       "5819077            MCO                 SJU                 2359   \n",
       "5819078            JFK                 BQN                 2359   \n",
       "\n",
       "         DEPARTURE_TIME  ...  ARRIVAL_TIME  ARRIVAL_DELAY  DIVERTED  \\\n",
       "0                2354.0  ...         408.0          -22.0         0   \n",
       "1                   2.0  ...         741.0           -9.0         0   \n",
       "2                  18.0  ...         811.0            5.0         0   \n",
       "3                  15.0  ...         756.0           -9.0         0   \n",
       "4                  24.0  ...         259.0          -21.0         0   \n",
       "...                 ...  ...           ...            ...       ...   \n",
       "5819074          2355.0  ...         753.0          -26.0         0   \n",
       "5819075          2355.0  ...         430.0          -16.0         0   \n",
       "5819076          2350.0  ...         432.0           -8.0         0   \n",
       "5819077          2353.0  ...         330.0          -10.0         0   \n",
       "5819078            14.0  ...         442.0            2.0         0   \n",
       "\n",
       "         CANCELLED  CANCELLATION_REASON  AIR_SYSTEM_DELAY  SECURITY_DELAY  \\\n",
       "0                0         Not Canceled               NaN             NaN   \n",
       "1                0         Not Canceled               NaN             NaN   \n",
       "2                0         Not Canceled               NaN             NaN   \n",
       "3                0         Not Canceled               NaN             NaN   \n",
       "4                0         Not Canceled               NaN             NaN   \n",
       "...            ...                  ...               ...             ...   \n",
       "5819074          0         Not Canceled               NaN             NaN   \n",
       "5819075          0         Not Canceled               NaN             NaN   \n",
       "5819076          0         Not Canceled               NaN             NaN   \n",
       "5819077          0         Not Canceled               NaN             NaN   \n",
       "5819078          0         Not Canceled               NaN             NaN   \n",
       "\n",
       "         AIRLINE_DELAY  LATE_AIRCRAFT_DELAY  WEATHER_DELAY  \n",
       "0                  NaN                  NaN            NaN  \n",
       "1                  NaN                  NaN            NaN  \n",
       "2                  NaN                  NaN            NaN  \n",
       "3                  NaN                  NaN            NaN  \n",
       "4                  NaN                  NaN            NaN  \n",
       "...                ...                  ...            ...  \n",
       "5819074            NaN                  NaN            NaN  \n",
       "5819075            NaN                  NaN            NaN  \n",
       "5819076            NaN                  NaN            NaN  \n",
       "5819077            NaN                  NaN            NaN  \n",
       "5819078            NaN                  NaN            NaN  \n",
       "\n",
       "[4755640 rows x 30 columns]"
      ]
     },
     "execution_count": 37,
     "metadata": {},
     "output_type": "execute_result"
    }
   ],
   "source": [
    "flights_df[flights_df['AIR_SYSTEM_DELAY'].isna()]"
   ]
  },
  {
   "cell_type": "code",
   "execution_count": 38,
   "metadata": {},
   "outputs": [
    {
     "data": {
      "text/plain": [
       "<Axes: >"
      ]
     },
     "execution_count": 38,
     "metadata": {},
     "output_type": "execute_result"
    },
    {
     "data": {
      "image/png": "[encoded data removed]",
      "text/plain": [
       "<Figure size 432x288 with 1 Axes>"
      ]
     },
     "metadata": {
      "needs_background": "light"
     },
     "output_type": "display_data"
    }
   ],
   "source": [
    "flights_df['AIR_SYSTEM_DELAY'].hist()"
   ]
  },
  {
   "cell_type": "code",
   "execution_count": 39,
   "metadata": {},
   "outputs": [
    {
     "data": {
      "text/html": [
       "<div>\n",
       "<style scoped>\n",
       "    .dataframe tbody tr th:only-of-type {\n",
       "        vertical-align: middle;\n",
       "    }\n",
       "\n",
       "    .dataframe tbody tr th {\n",
       "        vertical-align: top;\n",
       "    }\n",
       "\n",
       "    .dataframe thead th {\n",
       "        text-align: right;\n",
       "    }\n",
       "</style>\n",
       "<table border=\"1\" class=\"dataframe\">\n",
       "  <thead>\n",
       "    <tr style=\"text-align: right;\">\n",
       "      <th></th>\n",
       "      <th>ARRIVAL_TIME</th>\n",
       "      <th>SCHEDULED_ARRIVAL</th>\n",
       "      <th>ARRIVAL_DELAY</th>\n",
       "    </tr>\n",
       "  </thead>\n",
       "  <tbody>\n",
       "    <tr>\n",
       "      <th>0</th>\n",
       "      <td>408.0</td>\n",
       "      <td>430</td>\n",
       "      <td>-22.0</td>\n",
       "    </tr>\n",
       "    <tr>\n",
       "      <th>1</th>\n",
       "      <td>741.0</td>\n",
       "      <td>750</td>\n",
       "      <td>-9.0</td>\n",
       "    </tr>\n",
       "    <tr>\n",
       "      <th>2</th>\n",
       "      <td>811.0</td>\n",
       "      <td>806</td>\n",
       "      <td>5.0</td>\n",
       "    </tr>\n",
       "    <tr>\n",
       "      <th>3</th>\n",
       "      <td>756.0</td>\n",
       "      <td>805</td>\n",
       "      <td>-9.0</td>\n",
       "    </tr>\n",
       "    <tr>\n",
       "      <th>4</th>\n",
       "      <td>259.0</td>\n",
       "      <td>320</td>\n",
       "      <td>-21.0</td>\n",
       "    </tr>\n",
       "    <tr>\n",
       "      <th>...</th>\n",
       "      <td>...</td>\n",
       "      <td>...</td>\n",
       "      <td>...</td>\n",
       "    </tr>\n",
       "    <tr>\n",
       "      <th>5819074</th>\n",
       "      <td>753.0</td>\n",
       "      <td>819</td>\n",
       "      <td>-26.0</td>\n",
       "    </tr>\n",
       "    <tr>\n",
       "      <th>5819075</th>\n",
       "      <td>430.0</td>\n",
       "      <td>446</td>\n",
       "      <td>-16.0</td>\n",
       "    </tr>\n",
       "    <tr>\n",
       "      <th>5819076</th>\n",
       "      <td>432.0</td>\n",
       "      <td>440</td>\n",
       "      <td>-8.0</td>\n",
       "    </tr>\n",
       "    <tr>\n",
       "      <th>5819077</th>\n",
       "      <td>330.0</td>\n",
       "      <td>340</td>\n",
       "      <td>-10.0</td>\n",
       "    </tr>\n",
       "    <tr>\n",
       "      <th>5819078</th>\n",
       "      <td>442.0</td>\n",
       "      <td>440</td>\n",
       "      <td>2.0</td>\n",
       "    </tr>\n",
       "  </tbody>\n",
       "</table>\n",
       "<p>5819079 rows × 3 columns</p>\n",
       "</div>"
      ],
      "text/plain": [
       "         ARRIVAL_TIME  SCHEDULED_ARRIVAL  ARRIVAL_DELAY\n",
       "0               408.0                430          -22.0\n",
       "1               741.0                750           -9.0\n",
       "2               811.0                806            5.0\n",
       "3               756.0                805           -9.0\n",
       "4               259.0                320          -21.0\n",
       "...               ...                ...            ...\n",
       "5819074         753.0                819          -26.0\n",
       "5819075         430.0                446          -16.0\n",
       "5819076         432.0                440           -8.0\n",
       "5819077         330.0                340          -10.0\n",
       "5819078         442.0                440            2.0\n",
       "\n",
       "[5819079 rows x 3 columns]"
      ]
     },
     "execution_count": 39,
     "metadata": {},
     "output_type": "execute_result"
    }
   ],
   "source": [
    "flights_df[['ARRIVAL_TIME','SCHEDULED_ARRIVAL','ARRIVAL_DELAY']]"
   ]
  },
  {
   "cell_type": "code",
   "execution_count": 40,
   "metadata": {},
   "outputs": [
    {
     "data": {
      "text/plain": [
       "array([ 21.,  12.,  16.,  15.,  11.,  18.,  13.,  17.,  28.,  25.,   9.,\n",
       "        30.,  14.,  10.,  nan,  43.,  24.,  19.,  22.,  23.,  37.,  31.,\n",
       "         7.,  32.,  26.,  33.,  42.,  27.,  20.,  38.,   4.,  29.,   8.,\n",
       "        41.,  56.,  48.,  40.,  34.,   3.,  36.,  61.,  35.,   6.,  45.,\n",
       "        39.,  46.,  62.,  49.,   5.,  57.,  64.,  63.,  47.,  54.,  55.,\n",
       "        44.,  59.,  50.,  76., 113.,  73.,  58.,  52.,   2.,  72.,  51.,\n",
       "       110.,  53.,  75.,  84.,  77.,  82.,  70., 105.,  69.,  71.,  81.,\n",
       "        66.,  80.,  99.,  60.,  74.,  95.,  89., 136., 131.,  79.,  68.,\n",
       "       120.,  67.,  88.,   1.,  65., 176., 160., 104., 111., 112.,  83.,\n",
       "        85., 121., 100.,  91.,  97.,  93.,  87., 129.,  92.,  90.,  98.,\n",
       "       107., 124., 146.,  86.,  78., 115., 103.,  94., 101., 102., 126.,\n",
       "       116., 132., 118., 106., 130., 109., 114., 128.,  96., 141., 125.,\n",
       "       149., 147., 122., 117., 108., 119., 137., 133., 135., 169., 152.,\n",
       "       139., 143., 155., 153., 127., 150., 134., 145., 170., 140., 138.,\n",
       "       151., 159., 168., 177., 123., 167., 156., 144., 162., 164., 171.,\n",
       "       142., 154., 174., 161., 165., 148., 178., 179., 175., 166., 185.,\n",
       "       181., 225., 180., 158., 200., 157., 173., 172., 163.])"
      ]
     },
     "execution_count": 40,
     "metadata": {},
     "output_type": "execute_result"
    }
   ],
   "source": [
    "flights_df['TAXI_OUT'].unique()"
   ]
  },
  {
   "cell_type": "code",
   "execution_count": 41,
   "metadata": {},
   "outputs": [
    {
     "data": {
      "text/plain": [
       "MONTH                        0\n",
       "DAY                          0\n",
       "DAY_OF_WEEK                  0\n",
       "AIRLINE                      0\n",
       "FLIGHT_NUMBER                0\n",
       "TAIL_NUMBER              14721\n",
       "ORIGIN_AIRPORT               0\n",
       "DESTINATION_AIRPORT          0\n",
       "SCHEDULED_DEPARTURE          0\n",
       "DEPARTURE_TIME           86153\n",
       "DEPARTURE_DELAY          86153\n",
       "TAXI_OUT                 89047\n",
       "WHEELS_OFF               89047\n",
       "SCHEDULED_TIME               6\n",
       "ELAPSED_TIME            105071\n",
       "AIR_TIME                105071\n",
       "DISTANCE                     0\n",
       "WHEELS_ON                92513\n",
       "TAXI_IN                  92513\n",
       "SCHEDULED_ARRIVAL            0\n",
       "ARRIVAL_TIME             92513\n",
       "ARRIVAL_DELAY           105071\n",
       "DIVERTED                     0\n",
       "CANCELLED                    0\n",
       "CANCELLATION_REASON          0\n",
       "AIR_SYSTEM_DELAY       4755640\n",
       "SECURITY_DELAY         4755640\n",
       "AIRLINE_DELAY          4755640\n",
       "LATE_AIRCRAFT_DELAY    4755640\n",
       "WEATHER_DELAY          4755640\n",
       "dtype: int64"
      ]
     },
     "execution_count": 41,
     "metadata": {},
     "output_type": "execute_result"
    }
   ],
   "source": [
    "flights_df.isna().sum()"
   ]
  },
  {
   "cell_type": "code",
   "execution_count": 42,
   "metadata": {},
   "outputs": [
    {
     "data": {
      "text/plain": [
       "<Axes: >"
      ]
     },
     "execution_count": 42,
     "metadata": {},
     "output_type": "execute_result"
    },
    {
     "data": {
      "image/png": "[encoded data removed]",
      "text/plain": [
       "<Figure size 432x288 with 1 Axes>"
      ]
     },
     "metadata": {
      "needs_background": "light"
     },
     "output_type": "display_data"
    }
   ],
   "source": [
    "flights_df.TAXI_OUT.hist()"
   ]
  },
  {
   "cell_type": "code",
   "execution_count": 43,
   "metadata": {},
   "outputs": [
    {
     "data": {
      "text/plain": [
       "<Axes: >"
      ]
     },
     "execution_count": 43,
     "metadata": {},
     "output_type": "execute_result"
    },
    {
     "data": {
      "image/png": "[encoded data removed]",
      "text/plain": [
       "<Figure size 432x288 with 1 Axes>"
      ]
     },
     "metadata": {
      "needs_background": "light"
     },
     "output_type": "display_data"
    }
   ],
   "source": [
    "flights_df.TAXI_IN.hist()"
   ]
  },
  {
   "cell_type": "code",
   "execution_count": 44,
   "metadata": {},
   "outputs": [
    {
     "data": {
      "text/plain": [
       "<Axes: >"
      ]
     },
     "execution_count": 44,
     "metadata": {},
     "output_type": "execute_result"
    },
    {
     "data": {
      "image/png": "[encoded data removed]",
      "text/plain": [
       "<Figure size 432x288 with 1 Axes>"
      ]
     },
     "metadata": {
      "needs_background": "light"
     },
     "output_type": "display_data"
    }
   ],
   "source": [
    "flights_df.ARRIVAL_DELAY.hist()"
   ]
  },
  {
   "cell_type": "code",
   "execution_count": 45,
   "metadata": {},
   "outputs": [
    {
     "data": {
      "text/plain": [
       "count    5.714008e+06\n",
       "mean     4.407057e+00\n",
       "std      3.927130e+01\n",
       "min     -8.700000e+01\n",
       "25%     -1.300000e+01\n",
       "50%     -5.000000e+00\n",
       "75%      8.000000e+00\n",
       "max      1.971000e+03\n",
       "Name: ARRIVAL_DELAY, dtype: float64"
      ]
     },
     "execution_count": 45,
     "metadata": {},
     "output_type": "execute_result"
    }
   ],
   "source": [
    "flights_df.ARRIVAL_DELAY.describe()"
   ]
  },
  {
   "cell_type": "code",
   "execution_count": 46,
   "metadata": {},
   "outputs": [
    {
     "data": {
      "text/html": [
       "<div>\n",
       "<style scoped>\n",
       "    .dataframe tbody tr th:only-of-type {\n",
       "        vertical-align: middle;\n",
       "    }\n",
       "\n",
       "    .dataframe tbody tr th {\n",
       "        vertical-align: top;\n",
       "    }\n",
       "\n",
       "    .dataframe thead th {\n",
       "        text-align: right;\n",
       "    }\n",
       "</style>\n",
       "<table border=\"1\" class=\"dataframe\">\n",
       "  <thead>\n",
       "    <tr style=\"text-align: right;\">\n",
       "      <th></th>\n",
       "      <th>MONTH</th>\n",
       "      <th>DAY</th>\n",
       "      <th>DAY_OF_WEEK</th>\n",
       "      <th>FLIGHT_NUMBER</th>\n",
       "      <th>SCHEDULED_DEPARTURE</th>\n",
       "      <th>DEPARTURE_TIME</th>\n",
       "      <th>DEPARTURE_DELAY</th>\n",
       "      <th>TAXI_OUT</th>\n",
       "      <th>WHEELS_OFF</th>\n",
       "      <th>SCHEDULED_TIME</th>\n",
       "      <th>...</th>\n",
       "      <th>SCHEDULED_ARRIVAL</th>\n",
       "      <th>ARRIVAL_TIME</th>\n",
       "      <th>ARRIVAL_DELAY</th>\n",
       "      <th>DIVERTED</th>\n",
       "      <th>CANCELLED</th>\n",
       "      <th>AIR_SYSTEM_DELAY</th>\n",
       "      <th>SECURITY_DELAY</th>\n",
       "      <th>AIRLINE_DELAY</th>\n",
       "      <th>LATE_AIRCRAFT_DELAY</th>\n",
       "      <th>WEATHER_DELAY</th>\n",
       "    </tr>\n",
       "  </thead>\n",
       "  <tbody>\n",
       "    <tr>\n",
       "      <th>count</th>\n",
       "      <td>5.819079e+06</td>\n",
       "      <td>5.819079e+06</td>\n",
       "      <td>5.819079e+06</td>\n",
       "      <td>5.819079e+06</td>\n",
       "      <td>5.819079e+06</td>\n",
       "      <td>5.732926e+06</td>\n",
       "      <td>5.732926e+06</td>\n",
       "      <td>5.730032e+06</td>\n",
       "      <td>5.730032e+06</td>\n",
       "      <td>5.819073e+06</td>\n",
       "      <td>...</td>\n",
       "      <td>5.819079e+06</td>\n",
       "      <td>5.726566e+06</td>\n",
       "      <td>5.714008e+06</td>\n",
       "      <td>5.819079e+06</td>\n",
       "      <td>5.819079e+06</td>\n",
       "      <td>1.063439e+06</td>\n",
       "      <td>1.063439e+06</td>\n",
       "      <td>1.063439e+06</td>\n",
       "      <td>1.063439e+06</td>\n",
       "      <td>1.063439e+06</td>\n",
       "    </tr>\n",
       "    <tr>\n",
       "      <th>mean</th>\n",
       "      <td>6.524085e+00</td>\n",
       "      <td>1.570459e+01</td>\n",
       "      <td>3.926941e+00</td>\n",
       "      <td>2.173093e+03</td>\n",
       "      <td>1.329602e+03</td>\n",
       "      <td>1.335204e+03</td>\n",
       "      <td>9.370158e+00</td>\n",
       "      <td>1.607166e+01</td>\n",
       "      <td>1.357171e+03</td>\n",
       "      <td>1.416859e+02</td>\n",
       "      <td>...</td>\n",
       "      <td>1.493808e+03</td>\n",
       "      <td>1.476491e+03</td>\n",
       "      <td>4.407057e+00</td>\n",
       "      <td>2.609863e-03</td>\n",
       "      <td>1.544643e-02</td>\n",
       "      <td>1.348057e+01</td>\n",
       "      <td>7.615387e-02</td>\n",
       "      <td>1.896955e+01</td>\n",
       "      <td>2.347284e+01</td>\n",
       "      <td>2.915290e+00</td>\n",
       "    </tr>\n",
       "    <tr>\n",
       "      <th>std</th>\n",
       "      <td>3.405137e+00</td>\n",
       "      <td>8.783425e+00</td>\n",
       "      <td>1.988845e+00</td>\n",
       "      <td>1.757064e+03</td>\n",
       "      <td>4.837518e+02</td>\n",
       "      <td>4.964233e+02</td>\n",
       "      <td>3.708094e+01</td>\n",
       "      <td>8.895574e+00</td>\n",
       "      <td>4.980094e+02</td>\n",
       "      <td>7.521058e+01</td>\n",
       "      <td>...</td>\n",
       "      <td>5.071647e+02</td>\n",
       "      <td>5.263197e+02</td>\n",
       "      <td>3.927130e+01</td>\n",
       "      <td>5.102012e-02</td>\n",
       "      <td>1.233201e-01</td>\n",
       "      <td>2.800368e+01</td>\n",
       "      <td>2.143460e+00</td>\n",
       "      <td>4.816164e+01</td>\n",
       "      <td>4.319702e+01</td>\n",
       "      <td>2.043334e+01</td>\n",
       "    </tr>\n",
       "    <tr>\n",
       "      <th>min</th>\n",
       "      <td>1.000000e+00</td>\n",
       "      <td>1.000000e+00</td>\n",
       "      <td>1.000000e+00</td>\n",
       "      <td>1.000000e+00</td>\n",
       "      <td>1.000000e+00</td>\n",
       "      <td>1.000000e+00</td>\n",
       "      <td>-8.200000e+01</td>\n",
       "      <td>1.000000e+00</td>\n",
       "      <td>1.000000e+00</td>\n",
       "      <td>1.800000e+01</td>\n",
       "      <td>...</td>\n",
       "      <td>1.000000e+00</td>\n",
       "      <td>1.000000e+00</td>\n",
       "      <td>-8.700000e+01</td>\n",
       "      <td>0.000000e+00</td>\n",
       "      <td>0.000000e+00</td>\n",
       "      <td>0.000000e+00</td>\n",
       "      <td>0.000000e+00</td>\n",
       "      <td>0.000000e+00</td>\n",
       "      <td>0.000000e+00</td>\n",
       "      <td>0.000000e+00</td>\n",
       "    </tr>\n",
       "    <tr>\n",
       "      <th>25%</th>\n",
       "      <td>4.000000e+00</td>\n",
       "      <td>8.000000e+00</td>\n",
       "      <td>2.000000e+00</td>\n",
       "      <td>7.300000e+02</td>\n",
       "      <td>9.170000e+02</td>\n",
       "      <td>9.210000e+02</td>\n",
       "      <td>-5.000000e+00</td>\n",
       "      <td>1.100000e+01</td>\n",
       "      <td>9.350000e+02</td>\n",
       "      <td>8.500000e+01</td>\n",
       "      <td>...</td>\n",
       "      <td>1.110000e+03</td>\n",
       "      <td>1.059000e+03</td>\n",
       "      <td>-1.300000e+01</td>\n",
       "      <td>0.000000e+00</td>\n",
       "      <td>0.000000e+00</td>\n",
       "      <td>0.000000e+00</td>\n",
       "      <td>0.000000e+00</td>\n",
       "      <td>0.000000e+00</td>\n",
       "      <td>0.000000e+00</td>\n",
       "      <td>0.000000e+00</td>\n",
       "    </tr>\n",
       "    <tr>\n",
       "      <th>50%</th>\n",
       "      <td>7.000000e+00</td>\n",
       "      <td>1.600000e+01</td>\n",
       "      <td>4.000000e+00</td>\n",
       "      <td>1.690000e+03</td>\n",
       "      <td>1.325000e+03</td>\n",
       "      <td>1.330000e+03</td>\n",
       "      <td>-2.000000e+00</td>\n",
       "      <td>1.400000e+01</td>\n",
       "      <td>1.343000e+03</td>\n",
       "      <td>1.230000e+02</td>\n",
       "      <td>...</td>\n",
       "      <td>1.520000e+03</td>\n",
       "      <td>1.512000e+03</td>\n",
       "      <td>-5.000000e+00</td>\n",
       "      <td>0.000000e+00</td>\n",
       "      <td>0.000000e+00</td>\n",
       "      <td>2.000000e+00</td>\n",
       "      <td>0.000000e+00</td>\n",
       "      <td>2.000000e+00</td>\n",
       "      <td>3.000000e+00</td>\n",
       "      <td>0.000000e+00</td>\n",
       "    </tr>\n",
       "    <tr>\n",
       "      <th>75%</th>\n",
       "      <td>9.000000e+00</td>\n",
       "      <td>2.300000e+01</td>\n",
       "      <td>6.000000e+00</td>\n",
       "      <td>3.230000e+03</td>\n",
       "      <td>1.730000e+03</td>\n",
       "      <td>1.740000e+03</td>\n",
       "      <td>7.000000e+00</td>\n",
       "      <td>1.900000e+01</td>\n",
       "      <td>1.754000e+03</td>\n",
       "      <td>1.730000e+02</td>\n",
       "      <td>...</td>\n",
       "      <td>1.918000e+03</td>\n",
       "      <td>1.917000e+03</td>\n",
       "      <td>8.000000e+00</td>\n",
       "      <td>0.000000e+00</td>\n",
       "      <td>0.000000e+00</td>\n",
       "      <td>1.800000e+01</td>\n",
       "      <td>0.000000e+00</td>\n",
       "      <td>1.900000e+01</td>\n",
       "      <td>2.900000e+01</td>\n",
       "      <td>0.000000e+00</td>\n",
       "    </tr>\n",
       "    <tr>\n",
       "      <th>max</th>\n",
       "      <td>1.200000e+01</td>\n",
       "      <td>3.100000e+01</td>\n",
       "      <td>7.000000e+00</td>\n",
       "      <td>9.855000e+03</td>\n",
       "      <td>2.359000e+03</td>\n",
       "      <td>2.400000e+03</td>\n",
       "      <td>1.988000e+03</td>\n",
       "      <td>2.250000e+02</td>\n",
       "      <td>2.400000e+03</td>\n",
       "      <td>7.180000e+02</td>\n",
       "      <td>...</td>\n",
       "      <td>2.400000e+03</td>\n",
       "      <td>2.400000e+03</td>\n",
       "      <td>1.971000e+03</td>\n",
       "      <td>1.000000e+00</td>\n",
       "      <td>1.000000e+00</td>\n",
       "      <td>1.134000e+03</td>\n",
       "      <td>5.730000e+02</td>\n",
       "      <td>1.971000e+03</td>\n",
       "      <td>1.331000e+03</td>\n",
       "      <td>1.211000e+03</td>\n",
       "    </tr>\n",
       "  </tbody>\n",
       "</table>\n",
       "<p>8 rows × 25 columns</p>\n",
       "</div>"
      ],
      "text/plain": [
       "              MONTH           DAY   DAY_OF_WEEK  FLIGHT_NUMBER  \\\n",
       "count  5.819079e+06  5.819079e+06  5.819079e+06   5.819079e+06   \n",
       "mean   6.524085e+00  1.570459e+01  3.926941e+00   2.173093e+03   \n",
       "std    3.405137e+00  8.783425e+00  1.988845e+00   1.757064e+03   \n",
       "min    1.000000e+00  1.000000e+00  1.000000e+00   1.000000e+00   \n",
       "25%    4.000000e+00  8.000000e+00  2.000000e+00   7.300000e+02   \n",
       "50%    7.000000e+00  1.600000e+01  4.000000e+00   1.690000e+03   \n",
       "75%    9.000000e+00  2.300000e+01  6.000000e+00   3.230000e+03   \n",
       "max    1.200000e+01  3.100000e+01  7.000000e+00   9.855000e+03   \n",
       "\n",
       "       SCHEDULED_DEPARTURE  DEPARTURE_TIME  DEPARTURE_DELAY      TAXI_OUT  \\\n",
       "count         5.819079e+06    5.732926e+06     5.732926e+06  5.730032e+06   \n",
       "mean          1.329602e+03    1.335204e+03     9.370158e+00  1.607166e+01   \n",
       "std           4.837518e+02    4.964233e+02     3.708094e+01  8.895574e+00   \n",
       "min           1.000000e+00    1.000000e+00    -8.200000e+01  1.000000e+00   \n",
       "25%           9.170000e+02    9.210000e+02    -5.000000e+00  1.100000e+01   \n",
       "50%           1.325000e+03    1.330000e+03    -2.000000e+00  1.400000e+01   \n",
       "75%           1.730000e+03    1.740000e+03     7.000000e+00  1.900000e+01   \n",
       "max           2.359000e+03    2.400000e+03     1.988000e+03  2.250000e+02   \n",
       "\n",
       "         WHEELS_OFF  SCHEDULED_TIME  ...  SCHEDULED_ARRIVAL  ARRIVAL_TIME  \\\n",
       "count  5.730032e+06    5.819073e+06  ...       5.819079e+06  5.726566e+06   \n",
       "mean   1.357171e+03    1.416859e+02  ...       1.493808e+03  1.476491e+03   \n",
       "std    4.980094e+02    7.521058e+01  ...       5.071647e+02  5.263197e+02   \n",
       "min    1.000000e+00    1.800000e+01  ...       1.000000e+00  1.000000e+00   \n",
       "25%    9.350000e+02    8.500000e+01  ...       1.110000e+03  1.059000e+03   \n",
       "50%    1.343000e+03    1.230000e+02  ...       1.520000e+03  1.512000e+03   \n",
       "75%    1.754000e+03    1.730000e+02  ...       1.918000e+03  1.917000e+03   \n",
       "max    2.400000e+03    7.180000e+02  ...       2.400000e+03  2.400000e+03   \n",
       "\n",
       "       ARRIVAL_DELAY      DIVERTED     CANCELLED  AIR_SYSTEM_DELAY  \\\n",
       "count   5.714008e+06  5.819079e+06  5.819079e+06      1.063439e+06   \n",
       "mean    4.407057e+00  2.609863e-03  1.544643e-02      1.348057e+01   \n",
       "std     3.927130e+01  5.102012e-02  1.233201e-01      2.800368e+01   \n",
       "min    -8.700000e+01  0.000000e+00  0.000000e+00      0.000000e+00   \n",
       "25%    -1.300000e+01  0.000000e+00  0.000000e+00      0.000000e+00   \n",
       "50%    -5.000000e+00  0.000000e+00  0.000000e+00      2.000000e+00   \n",
       "75%     8.000000e+00  0.000000e+00  0.000000e+00      1.800000e+01   \n",
       "max     1.971000e+03  1.000000e+00  1.000000e+00      1.134000e+03   \n",
       "\n",
       "       SECURITY_DELAY  AIRLINE_DELAY  LATE_AIRCRAFT_DELAY  WEATHER_DELAY  \n",
       "count    1.063439e+06   1.063439e+06         1.063439e+06   1.063439e+06  \n",
       "mean     7.615387e-02   1.896955e+01         2.347284e+01   2.915290e+00  \n",
       "std      2.143460e+00   4.816164e+01         4.319702e+01   2.043334e+01  \n",
       "min      0.000000e+00   0.000000e+00         0.000000e+00   0.000000e+00  \n",
       "25%      0.000000e+00   0.000000e+00         0.000000e+00   0.000000e+00  \n",
       "50%      0.000000e+00   2.000000e+00         3.000000e+00   0.000000e+00  \n",
       "75%      0.000000e+00   1.900000e+01         2.900000e+01   0.000000e+00  \n",
       "max      5.730000e+02   1.971000e+03         1.331000e+03   1.211000e+03  \n",
       "\n",
       "[8 rows x 25 columns]"
      ]
     },
     "execution_count": 46,
     "metadata": {},
     "output_type": "execute_result"
    }
   ],
   "source": [
    "flights_df.describe()"
   ]
  },
  {
   "cell_type": "code",
   "execution_count": 47,
   "metadata": {},
   "outputs": [
    {
     "data": {
      "text/plain": [
       "array([0, 1], dtype=int64)"
      ]
     },
     "execution_count": 47,
     "metadata": {},
     "output_type": "execute_result"
    }
   ],
   "source": [
    "flights_df.CANCELLED.unique()"
   ]
  },
  {
   "cell_type": "code",
   "execution_count": 48,
   "metadata": {},
   "outputs": [],
   "source": [
    "delay_columns = ['DEPARTURE_DELAY','ARRIVAL_DELAY','DIVERTED','CANCELLED','AIR_SYSTEM_DELAY','SECURITY_DELAY','AIRLINE_DELAY', 'LATE_AIRCRAFT_DELAY','WEATHER_DELAY']"
   ]
  },
  {
   "cell_type": "code",
   "execution_count": 49,
   "metadata": {},
   "outputs": [
    {
     "data": {
      "text/html": [
       "<div>\n",
       "<style scoped>\n",
       "    .dataframe tbody tr th:only-of-type {\n",
       "        vertical-align: middle;\n",
       "    }\n",
       "\n",
       "    .dataframe tbody tr th {\n",
       "        vertical-align: top;\n",
       "    }\n",
       "\n",
       "    .dataframe thead th {\n",
       "        text-align: right;\n",
       "    }\n",
       "</style>\n",
       "<table border=\"1\" class=\"dataframe\">\n",
       "  <thead>\n",
       "    <tr style=\"text-align: right;\">\n",
       "      <th></th>\n",
       "      <th>DEPARTURE_DELAY</th>\n",
       "      <th>ARRIVAL_DELAY</th>\n",
       "      <th>DIVERTED</th>\n",
       "      <th>CANCELLED</th>\n",
       "      <th>AIR_SYSTEM_DELAY</th>\n",
       "      <th>SECURITY_DELAY</th>\n",
       "      <th>AIRLINE_DELAY</th>\n",
       "      <th>LATE_AIRCRAFT_DELAY</th>\n",
       "      <th>WEATHER_DELAY</th>\n",
       "    </tr>\n",
       "  </thead>\n",
       "  <tbody>\n",
       "    <tr>\n",
       "      <th>0</th>\n",
       "      <td>-11.0</td>\n",
       "      <td>-22.0</td>\n",
       "      <td>0</td>\n",
       "      <td>0</td>\n",
       "      <td>NaN</td>\n",
       "      <td>NaN</td>\n",
       "      <td>NaN</td>\n",
       "      <td>NaN</td>\n",
       "      <td>NaN</td>\n",
       "    </tr>\n",
       "    <tr>\n",
       "      <th>1</th>\n",
       "      <td>-8.0</td>\n",
       "      <td>-9.0</td>\n",
       "      <td>0</td>\n",
       "      <td>0</td>\n",
       "      <td>NaN</td>\n",
       "      <td>NaN</td>\n",
       "      <td>NaN</td>\n",
       "      <td>NaN</td>\n",
       "      <td>NaN</td>\n",
       "    </tr>\n",
       "    <tr>\n",
       "      <th>2</th>\n",
       "      <td>-2.0</td>\n",
       "      <td>5.0</td>\n",
       "      <td>0</td>\n",
       "      <td>0</td>\n",
       "      <td>NaN</td>\n",
       "      <td>NaN</td>\n",
       "      <td>NaN</td>\n",
       "      <td>NaN</td>\n",
       "      <td>NaN</td>\n",
       "    </tr>\n",
       "    <tr>\n",
       "      <th>3</th>\n",
       "      <td>-5.0</td>\n",
       "      <td>-9.0</td>\n",
       "      <td>0</td>\n",
       "      <td>0</td>\n",
       "      <td>NaN</td>\n",
       "      <td>NaN</td>\n",
       "      <td>NaN</td>\n",
       "      <td>NaN</td>\n",
       "      <td>NaN</td>\n",
       "    </tr>\n",
       "    <tr>\n",
       "      <th>4</th>\n",
       "      <td>-1.0</td>\n",
       "      <td>-21.0</td>\n",
       "      <td>0</td>\n",
       "      <td>0</td>\n",
       "      <td>NaN</td>\n",
       "      <td>NaN</td>\n",
       "      <td>NaN</td>\n",
       "      <td>NaN</td>\n",
       "      <td>NaN</td>\n",
       "    </tr>\n",
       "    <tr>\n",
       "      <th>...</th>\n",
       "      <td>...</td>\n",
       "      <td>...</td>\n",
       "      <td>...</td>\n",
       "      <td>...</td>\n",
       "      <td>...</td>\n",
       "      <td>...</td>\n",
       "      <td>...</td>\n",
       "      <td>...</td>\n",
       "      <td>...</td>\n",
       "    </tr>\n",
       "    <tr>\n",
       "      <th>5819074</th>\n",
       "      <td>-4.0</td>\n",
       "      <td>-26.0</td>\n",
       "      <td>0</td>\n",
       "      <td>0</td>\n",
       "      <td>NaN</td>\n",
       "      <td>NaN</td>\n",
       "      <td>NaN</td>\n",
       "      <td>NaN</td>\n",
       "      <td>NaN</td>\n",
       "    </tr>\n",
       "    <tr>\n",
       "      <th>5819075</th>\n",
       "      <td>-4.0</td>\n",
       "      <td>-16.0</td>\n",
       "      <td>0</td>\n",
       "      <td>0</td>\n",
       "      <td>NaN</td>\n",
       "      <td>NaN</td>\n",
       "      <td>NaN</td>\n",
       "      <td>NaN</td>\n",
       "      <td>NaN</td>\n",
       "    </tr>\n",
       "    <tr>\n",
       "      <th>5819076</th>\n",
       "      <td>-9.0</td>\n",
       "      <td>-8.0</td>\n",
       "      <td>0</td>\n",
       "      <td>0</td>\n",
       "      <td>NaN</td>\n",
       "      <td>NaN</td>\n",
       "      <td>NaN</td>\n",
       "      <td>NaN</td>\n",
       "      <td>NaN</td>\n",
       "    </tr>\n",
       "    <tr>\n",
       "      <th>5819077</th>\n",
       "      <td>-6.0</td>\n",
       "      <td>-10.0</td>\n",
       "      <td>0</td>\n",
       "      <td>0</td>\n",
       "      <td>NaN</td>\n",
       "      <td>NaN</td>\n",
       "      <td>NaN</td>\n",
       "      <td>NaN</td>\n",
       "      <td>NaN</td>\n",
       "    </tr>\n",
       "    <tr>\n",
       "      <th>5819078</th>\n",
       "      <td>15.0</td>\n",
       "      <td>2.0</td>\n",
       "      <td>0</td>\n",
       "      <td>0</td>\n",
       "      <td>NaN</td>\n",
       "      <td>NaN</td>\n",
       "      <td>NaN</td>\n",
       "      <td>NaN</td>\n",
       "      <td>NaN</td>\n",
       "    </tr>\n",
       "  </tbody>\n",
       "</table>\n",
       "<p>5819079 rows × 9 columns</p>\n",
       "</div>"
      ],
      "text/plain": [
       "         DEPARTURE_DELAY  ARRIVAL_DELAY  DIVERTED  CANCELLED  \\\n",
       "0                  -11.0          -22.0         0          0   \n",
       "1                   -8.0           -9.0         0          0   \n",
       "2                   -2.0            5.0         0          0   \n",
       "3                   -5.0           -9.0         0          0   \n",
       "4                   -1.0          -21.0         0          0   \n",
       "...                  ...            ...       ...        ...   \n",
       "5819074             -4.0          -26.0         0          0   \n",
       "5819075             -4.0          -16.0         0          0   \n",
       "5819076             -9.0           -8.0         0          0   \n",
       "5819077             -6.0          -10.0         0          0   \n",
       "5819078             15.0            2.0         0          0   \n",
       "\n",
       "         AIR_SYSTEM_DELAY  SECURITY_DELAY  AIRLINE_DELAY  LATE_AIRCRAFT_DELAY  \\\n",
       "0                     NaN             NaN            NaN                  NaN   \n",
       "1                     NaN             NaN            NaN                  NaN   \n",
       "2                     NaN             NaN            NaN                  NaN   \n",
       "3                     NaN             NaN            NaN                  NaN   \n",
       "4                     NaN             NaN            NaN                  NaN   \n",
       "...                   ...             ...            ...                  ...   \n",
       "5819074               NaN             NaN            NaN                  NaN   \n",
       "5819075               NaN             NaN            NaN                  NaN   \n",
       "5819076               NaN             NaN            NaN                  NaN   \n",
       "5819077               NaN             NaN            NaN                  NaN   \n",
       "5819078               NaN             NaN            NaN                  NaN   \n",
       "\n",
       "         WEATHER_DELAY  \n",
       "0                  NaN  \n",
       "1                  NaN  \n",
       "2                  NaN  \n",
       "3                  NaN  \n",
       "4                  NaN  \n",
       "...                ...  \n",
       "5819074            NaN  \n",
       "5819075            NaN  \n",
       "5819076            NaN  \n",
       "5819077            NaN  \n",
       "5819078            NaN  \n",
       "\n",
       "[5819079 rows x 9 columns]"
      ]
     },
     "execution_count": 49,
     "metadata": {},
     "output_type": "execute_result"
    }
   ],
   "source": [
    "flights_df[delay_columns]"
   ]
  },
  {
   "cell_type": "code",
   "execution_count": 50,
   "metadata": {},
   "outputs": [
    {
     "data": {
      "text/plain": [
       "DEPARTURE_DELAY         True\n",
       "ARRIVAL_DELAY           True\n",
       "DIVERTED               False\n",
       "CANCELLED              False\n",
       "AIR_SYSTEM_DELAY        True\n",
       "SECURITY_DELAY          True\n",
       "AIRLINE_DELAY           True\n",
       "LATE_AIRCRAFT_DELAY     True\n",
       "WEATHER_DELAY           True\n",
       "dtype: bool"
      ]
     },
     "execution_count": 50,
     "metadata": {},
     "output_type": "execute_result"
    }
   ],
   "source": [
    "flights_df[delay_columns].isna().any()"
   ]
  },
  {
   "cell_type": "code",
   "execution_count": 51,
   "metadata": {},
   "outputs": [
    {
     "data": {
      "text/plain": [
       "MONTH                  False\n",
       "DAY                    False\n",
       "DAY_OF_WEEK            False\n",
       "AIRLINE                False\n",
       "FLIGHT_NUMBER          False\n",
       "TAIL_NUMBER             True\n",
       "ORIGIN_AIRPORT         False\n",
       "DESTINATION_AIRPORT    False\n",
       "SCHEDULED_DEPARTURE    False\n",
       "DEPARTURE_TIME          True\n",
       "DEPARTURE_DELAY         True\n",
       "TAXI_OUT                True\n",
       "WHEELS_OFF              True\n",
       "SCHEDULED_TIME          True\n",
       "ELAPSED_TIME            True\n",
       "AIR_TIME                True\n",
       "DISTANCE               False\n",
       "WHEELS_ON               True\n",
       "TAXI_IN                 True\n",
       "SCHEDULED_ARRIVAL      False\n",
       "ARRIVAL_TIME            True\n",
       "ARRIVAL_DELAY           True\n",
       "DIVERTED               False\n",
       "CANCELLED              False\n",
       "CANCELLATION_REASON    False\n",
       "AIR_SYSTEM_DELAY        True\n",
       "SECURITY_DELAY          True\n",
       "AIRLINE_DELAY           True\n",
       "LATE_AIRCRAFT_DELAY     True\n",
       "WEATHER_DELAY           True\n",
       "dtype: bool"
      ]
     },
     "execution_count": 51,
     "metadata": {},
     "output_type": "execute_result"
    }
   ],
   "source": [
    "flights_df.isna().any()"
   ]
  },
  {
   "cell_type": "code",
   "execution_count": 52,
   "metadata": {},
   "outputs": [
    {
     "data": {
      "text/plain": [
       "AIR_SYSTEM_DELAY\n",
       "0.0      498613\n",
       "1.0       28003\n",
       "15.0      23199\n",
       "2.0       22981\n",
       "3.0       21446\n",
       "          ...  \n",
       "518.0         1\n",
       "578.0         1\n",
       "453.0         1\n",
       "872.0         1\n",
       "477.0         1\n",
       "Name: count, Length: 570, dtype: int64"
      ]
     },
     "execution_count": 52,
     "metadata": {},
     "output_type": "execute_result"
    }
   ],
   "source": [
    "flights_df.AIR_SYSTEM_DELAY.value_counts()"
   ]
  },
  {
   "cell_type": "markdown",
   "metadata": {},
   "source": []
  },
  {
   "cell_type": "code",
   "execution_count": 53,
   "metadata": {},
   "outputs": [
    {
     "data": {
      "text/plain": [
       "<Axes: >"
      ]
     },
     "execution_count": 53,
     "metadata": {},
     "output_type": "execute_result"
    },
    {
     "data": {
      "image/png": "[encoded data removed]",
      "text/plain": [
       "<Figure size 432x288 with 1 Axes>"
      ]
     },
     "metadata": {
      "needs_background": "light"
     },
     "output_type": "display_data"
    }
   ],
   "source": [
    "flights_df.WEATHER_DELAY.hist()"
   ]
  },
  {
   "cell_type": "code",
   "execution_count": 54,
   "metadata": {},
   "outputs": [
    {
     "name": "stdout",
     "output_type": "stream",
     "text": [
      "MONTH\n",
      "DAY\n",
      "DAY_OF_WEEK\n",
      "FLIGHT_NUMBER\n",
      "SCHEDULED_DEPARTURE\n",
      "DEPARTURE_TIME\n",
      "DEPARTURE_DELAY\n",
      "TAXI_OUT\n",
      "WHEELS_OFF\n",
      "SCHEDULED_TIME\n",
      "ELAPSED_TIME\n",
      "AIR_TIME\n",
      "DISTANCE\n",
      "WHEELS_ON\n",
      "TAXI_IN\n",
      "SCHEDULED_ARRIVAL\n",
      "ARRIVAL_TIME\n",
      "ARRIVAL_DELAY\n",
      "DIVERTED\n",
      "CANCELLED\n",
      "AIR_SYSTEM_DELAY\n",
      "SECURITY_DELAY\n",
      "AIRLINE_DELAY\n",
      "LATE_AIRCRAFT_DELAY\n",
      "WEATHER_DELAY\n"
     ]
    }
   ],
   "source": [
    "for column in flights_df.select_dtypes(include=[np.number]).columns:\n",
    "    print(column)\n",
    "    # flights_df[column].fillna(flights_df[column].mean(), inplace=True)"
   ]
  },
  {
   "cell_type": "code",
   "execution_count": 55,
   "metadata": {},
   "outputs": [
    {
     "ename": "KeyError",
     "evalue": "'AIRPORT_ORIGIN'",
     "output_type": "error",
     "traceback": [
      "\u001b[1;31m---------------------------------------------------------------------------\u001b[0m",
      "\u001b[1;31mKeyError\u001b[0m                                  Traceback (most recent call last)",
      "\u001b[1;32mc:\\Users\\Azadeh\\anaconda3\\lib\\site-packages\\pandas\\core\\indexes\\base.py\u001b[0m in \u001b[0;36mget_loc\u001b[1;34m(self, key)\u001b[0m\n\u001b[0;32m   3652\u001b[0m         \u001b[1;32mtry\u001b[0m\u001b[1;33m:\u001b[0m\u001b[1;33m\u001b[0m\u001b[1;33m\u001b[0m\u001b[0m\n\u001b[1;32m-> 3653\u001b[1;33m             \u001b[1;32mreturn\u001b[0m \u001b[0mself\u001b[0m\u001b[1;33m.\u001b[0m\u001b[0m_engine\u001b[0m\u001b[1;33m.\u001b[0m\u001b[0mget_loc\u001b[0m\u001b[1;33m(\u001b[0m\u001b[0mcasted_key\u001b[0m\u001b[1;33m)\u001b[0m\u001b[1;33m\u001b[0m\u001b[1;33m\u001b[0m\u001b[0m\n\u001b[0m\u001b[0;32m   3654\u001b[0m         \u001b[1;32mexcept\u001b[0m \u001b[0mKeyError\u001b[0m \u001b[1;32mas\u001b[0m \u001b[0merr\u001b[0m\u001b[1;33m:\u001b[0m\u001b[1;33m\u001b[0m\u001b[1;33m\u001b[0m\u001b[0m\n",
      "\u001b[1;32mc:\\Users\\Azadeh\\anaconda3\\lib\\site-packages\\pandas\\_libs\\index.pyx\u001b[0m in \u001b[0;36mpandas._libs.index.IndexEngine.get_loc\u001b[1;34m()\u001b[0m\n",
      "\u001b[1;32mc:\\Users\\Azadeh\\anaconda3\\lib\\site-packages\\pandas\\_libs\\index.pyx\u001b[0m in \u001b[0;36mpandas._libs.index.IndexEngine.get_loc\u001b[1;34m()\u001b[0m\n",
      "\u001b[1;32mpandas\\_libs\\hashtable_class_helper.pxi\u001b[0m in \u001b[0;36mpandas._libs.hashtable.PyObjectHashTable.get_item\u001b[1;34m()\u001b[0m\n",
      "\u001b[1;32mpandas\\_libs\\hashtable_class_helper.pxi\u001b[0m in \u001b[0;36mpandas._libs.hashtable.PyObjectHashTable.get_item\u001b[1;34m()\u001b[0m\n",
      "\u001b[1;31mKeyError\u001b[0m: 'AIRPORT_ORIGIN'",
      "\nThe above exception was the direct cause of the following exception:\n",
      "\u001b[1;31mKeyError\u001b[0m                                  Traceback (most recent call last)",
      "\u001b[1;32m<ipython-input-55-01e99200d612>\u001b[0m in \u001b[0;36m<module>\u001b[1;34m\u001b[0m\n\u001b[1;32m----> 1\u001b[1;33m \u001b[0mflights_df\u001b[0m\u001b[1;33m[\u001b[0m\u001b[0mflights_df\u001b[0m\u001b[1;33m[\u001b[0m\u001b[1;34m'AIRPORT_ORIGIN'\u001b[0m\u001b[1;33m]\u001b[0m\u001b[1;33m.\u001b[0m\u001b[0misna\u001b[0m\u001b[1;33m(\u001b[0m\u001b[1;33m)\u001b[0m\u001b[1;33m]\u001b[0m\u001b[1;33m\u001b[0m\u001b[1;33m\u001b[0m\u001b[0m\n\u001b[0m",
      "\u001b[1;32mc:\\Users\\Azadeh\\anaconda3\\lib\\site-packages\\pandas\\core\\frame.py\u001b[0m in \u001b[0;36m__getitem__\u001b[1;34m(self, key)\u001b[0m\n\u001b[0;32m   3759\u001b[0m             \u001b[1;32mif\u001b[0m \u001b[0mself\u001b[0m\u001b[1;33m.\u001b[0m\u001b[0mcolumns\u001b[0m\u001b[1;33m.\u001b[0m\u001b[0mnlevels\u001b[0m \u001b[1;33m>\u001b[0m \u001b[1;36m1\u001b[0m\u001b[1;33m:\u001b[0m\u001b[1;33m\u001b[0m\u001b[1;33m\u001b[0m\u001b[0m\n\u001b[0;32m   3760\u001b[0m                 \u001b[1;32mreturn\u001b[0m \u001b[0mself\u001b[0m\u001b[1;33m.\u001b[0m\u001b[0m_getitem_multilevel\u001b[0m\u001b[1;33m(\u001b[0m\u001b[0mkey\u001b[0m\u001b[1;33m)\u001b[0m\u001b[1;33m\u001b[0m\u001b[1;33m\u001b[0m\u001b[0m\n\u001b[1;32m-> 3761\u001b[1;33m             \u001b[0mindexer\u001b[0m \u001b[1;33m=\u001b[0m \u001b[0mself\u001b[0m\u001b[1;33m.\u001b[0m\u001b[0mcolumns\u001b[0m\u001b[1;33m.\u001b[0m\u001b[0mget_loc\u001b[0m\u001b[1;33m(\u001b[0m\u001b[0mkey\u001b[0m\u001b[1;33m)\u001b[0m\u001b[1;33m\u001b[0m\u001b[1;33m\u001b[0m\u001b[0m\n\u001b[0m\u001b[0;32m   3762\u001b[0m             \u001b[1;32mif\u001b[0m \u001b[0mis_integer\u001b[0m\u001b[1;33m(\u001b[0m\u001b[0mindexer\u001b[0m\u001b[1;33m)\u001b[0m\u001b[1;33m:\u001b[0m\u001b[1;33m\u001b[0m\u001b[1;33m\u001b[0m\u001b[0m\n\u001b[0;32m   3763\u001b[0m                 \u001b[0mindexer\u001b[0m \u001b[1;33m=\u001b[0m \u001b[1;33m[\u001b[0m\u001b[0mindexer\u001b[0m\u001b[1;33m]\u001b[0m\u001b[1;33m\u001b[0m\u001b[1;33m\u001b[0m\u001b[0m\n",
      "\u001b[1;32mc:\\Users\\Azadeh\\anaconda3\\lib\\site-packages\\pandas\\core\\indexes\\base.py\u001b[0m in \u001b[0;36mget_loc\u001b[1;34m(self, key)\u001b[0m\n\u001b[0;32m   3653\u001b[0m             \u001b[1;32mreturn\u001b[0m \u001b[0mself\u001b[0m\u001b[1;33m.\u001b[0m\u001b[0m_engine\u001b[0m\u001b[1;33m.\u001b[0m\u001b[0mget_loc\u001b[0m\u001b[1;33m(\u001b[0m\u001b[0mcasted_key\u001b[0m\u001b[1;33m)\u001b[0m\u001b[1;33m\u001b[0m\u001b[1;33m\u001b[0m\u001b[0m\n\u001b[0;32m   3654\u001b[0m         \u001b[1;32mexcept\u001b[0m \u001b[0mKeyError\u001b[0m \u001b[1;32mas\u001b[0m \u001b[0merr\u001b[0m\u001b[1;33m:\u001b[0m\u001b[1;33m\u001b[0m\u001b[1;33m\u001b[0m\u001b[0m\n\u001b[1;32m-> 3655\u001b[1;33m             \u001b[1;32mraise\u001b[0m \u001b[0mKeyError\u001b[0m\u001b[1;33m(\u001b[0m\u001b[0mkey\u001b[0m\u001b[1;33m)\u001b[0m \u001b[1;32mfrom\u001b[0m \u001b[0merr\u001b[0m\u001b[1;33m\u001b[0m\u001b[1;33m\u001b[0m\u001b[0m\n\u001b[0m\u001b[0;32m   3656\u001b[0m         \u001b[1;32mexcept\u001b[0m \u001b[0mTypeError\u001b[0m\u001b[1;33m:\u001b[0m\u001b[1;33m\u001b[0m\u001b[1;33m\u001b[0m\u001b[0m\n\u001b[0;32m   3657\u001b[0m             \u001b[1;31m# If we have a listlike key, _check_indexing_error will raise\u001b[0m\u001b[1;33m\u001b[0m\u001b[1;33m\u001b[0m\u001b[1;33m\u001b[0m\u001b[0m\n",
      "\u001b[1;31mKeyError\u001b[0m: 'AIRPORT_ORIGIN'"
     ]
    }
   ],
   "source": [
    "flights_df[flights_df['AIRPORT_ORIGIN'].isna()]"
   ]
  },
  {
   "cell_type": "code",
   "execution_count": null,
   "metadata": {},
   "outputs": [
    {
     "data": {
      "text/plain": [
       "DIVERTED\n",
       "0    5803892\n",
       "1      15187\n",
       "Name: count, dtype: int64"
      ]
     },
     "execution_count": 55,
     "metadata": {},
     "output_type": "execute_result"
    }
   ],
   "source": [
    "flights_df.DIVERTED.value_counts()"
   ]
  },
  {
   "cell_type": "code",
   "execution_count": null,
   "metadata": {},
   "outputs": [
    {
     "data": {
      "text/plain": [
       "CANCELLATION_REASON\n",
       "Not Canceled    5729195\n",
       "B                 48851\n",
       "A                 25262\n",
       "C                 15749\n",
       "D                    22\n",
       "Name: count, dtype: int64"
      ]
     },
     "execution_count": 56,
     "metadata": {},
     "output_type": "execute_result"
    }
   ],
   "source": [
    "flights_df.CANCELLATION_REASON.value_counts()"
   ]
  },
  {
   "cell_type": "code",
   "execution_count": null,
   "metadata": {},
   "outputs": [
    {
     "data": {
      "text/html": [
       "<div>\n",
       "<style scoped>\n",
       "    .dataframe tbody tr th:only-of-type {\n",
       "        vertical-align: middle;\n",
       "    }\n",
       "\n",
       "    .dataframe tbody tr th {\n",
       "        vertical-align: top;\n",
       "    }\n",
       "\n",
       "    .dataframe thead th {\n",
       "        text-align: right;\n",
       "    }\n",
       "</style>\n",
       "<table border=\"1\" class=\"dataframe\">\n",
       "  <thead>\n",
       "    <tr style=\"text-align: right;\">\n",
       "      <th></th>\n",
       "      <th>CANCELLED</th>\n",
       "      <th>CANCELLATION_REASON</th>\n",
       "    </tr>\n",
       "  </thead>\n",
       "  <tbody>\n",
       "    <tr>\n",
       "      <th>0</th>\n",
       "      <td>0</td>\n",
       "      <td>Not Canceled</td>\n",
       "    </tr>\n",
       "    <tr>\n",
       "      <th>1</th>\n",
       "      <td>0</td>\n",
       "      <td>Not Canceled</td>\n",
       "    </tr>\n",
       "    <tr>\n",
       "      <th>2</th>\n",
       "      <td>0</td>\n",
       "      <td>Not Canceled</td>\n",
       "    </tr>\n",
       "    <tr>\n",
       "      <th>3</th>\n",
       "      <td>0</td>\n",
       "      <td>Not Canceled</td>\n",
       "    </tr>\n",
       "    <tr>\n",
       "      <th>4</th>\n",
       "      <td>0</td>\n",
       "      <td>Not Canceled</td>\n",
       "    </tr>\n",
       "    <tr>\n",
       "      <th>...</th>\n",
       "      <td>...</td>\n",
       "      <td>...</td>\n",
       "    </tr>\n",
       "    <tr>\n",
       "      <th>5819074</th>\n",
       "      <td>0</td>\n",
       "      <td>Not Canceled</td>\n",
       "    </tr>\n",
       "    <tr>\n",
       "      <th>5819075</th>\n",
       "      <td>0</td>\n",
       "      <td>Not Canceled</td>\n",
       "    </tr>\n",
       "    <tr>\n",
       "      <th>5819076</th>\n",
       "      <td>0</td>\n",
       "      <td>Not Canceled</td>\n",
       "    </tr>\n",
       "    <tr>\n",
       "      <th>5819077</th>\n",
       "      <td>0</td>\n",
       "      <td>Not Canceled</td>\n",
       "    </tr>\n",
       "    <tr>\n",
       "      <th>5819078</th>\n",
       "      <td>0</td>\n",
       "      <td>Not Canceled</td>\n",
       "    </tr>\n",
       "  </tbody>\n",
       "</table>\n",
       "<p>5729195 rows × 2 columns</p>\n",
       "</div>"
      ],
      "text/plain": [
       "         CANCELLED CANCELLATION_REASON\n",
       "0                0        Not Canceled\n",
       "1                0        Not Canceled\n",
       "2                0        Not Canceled\n",
       "3                0        Not Canceled\n",
       "4                0        Not Canceled\n",
       "...            ...                 ...\n",
       "5819074          0        Not Canceled\n",
       "5819075          0        Not Canceled\n",
       "5819076          0        Not Canceled\n",
       "5819077          0        Not Canceled\n",
       "5819078          0        Not Canceled\n",
       "\n",
       "[5729195 rows x 2 columns]"
      ]
     },
     "execution_count": 57,
     "metadata": {},
     "output_type": "execute_result"
    }
   ],
   "source": [
    "flights_df[flights_df['CANCELLED']==0][['CANCELLED','CANCELLATION_REASON']]"
   ]
  },
  {
   "cell_type": "code",
   "execution_count": null,
   "metadata": {},
   "outputs": [
    {
     "data": {
      "text/plain": [
       "CANCELLED  CANCELLATION_REASON\n",
       "0          Not Canceled           5729195\n",
       "1          B                        48851\n",
       "           A                        25262\n",
       "           C                        15749\n",
       "           D                           22\n",
       "Name: count, dtype: int64"
      ]
     },
     "execution_count": 58,
     "metadata": {},
     "output_type": "execute_result"
    }
   ],
   "source": [
    "flights_df[['CANCELLED','CANCELLATION_REASON']].value_counts()"
   ]
  },
  {
   "cell_type": "code",
   "execution_count": null,
   "metadata": {},
   "outputs": [
    {
     "data": {
      "text/html": [
       "<div>\n",
       "<style scoped>\n",
       "    .dataframe tbody tr th:only-of-type {\n",
       "        vertical-align: middle;\n",
       "    }\n",
       "\n",
       "    .dataframe tbody tr th {\n",
       "        vertical-align: top;\n",
       "    }\n",
       "\n",
       "    .dataframe thead th {\n",
       "        text-align: right;\n",
       "    }\n",
       "</style>\n",
       "<table border=\"1\" class=\"dataframe\">\n",
       "  <thead>\n",
       "    <tr style=\"text-align: right;\">\n",
       "      <th></th>\n",
       "      <th>CANCELLED</th>\n",
       "      <th>CANCELLATION_REASON</th>\n",
       "    </tr>\n",
       "  </thead>\n",
       "  <tbody>\n",
       "    <tr>\n",
       "      <th>0</th>\n",
       "      <td>0</td>\n",
       "      <td>Not Canceled</td>\n",
       "    </tr>\n",
       "    <tr>\n",
       "      <th>1</th>\n",
       "      <td>0</td>\n",
       "      <td>Not Canceled</td>\n",
       "    </tr>\n",
       "    <tr>\n",
       "      <th>2</th>\n",
       "      <td>0</td>\n",
       "      <td>Not Canceled</td>\n",
       "    </tr>\n",
       "    <tr>\n",
       "      <th>3</th>\n",
       "      <td>0</td>\n",
       "      <td>Not Canceled</td>\n",
       "    </tr>\n",
       "    <tr>\n",
       "      <th>4</th>\n",
       "      <td>0</td>\n",
       "      <td>Not Canceled</td>\n",
       "    </tr>\n",
       "    <tr>\n",
       "      <th>...</th>\n",
       "      <td>...</td>\n",
       "      <td>...</td>\n",
       "    </tr>\n",
       "    <tr>\n",
       "      <th>5819074</th>\n",
       "      <td>0</td>\n",
       "      <td>Not Canceled</td>\n",
       "    </tr>\n",
       "    <tr>\n",
       "      <th>5819075</th>\n",
       "      <td>0</td>\n",
       "      <td>Not Canceled</td>\n",
       "    </tr>\n",
       "    <tr>\n",
       "      <th>5819076</th>\n",
       "      <td>0</td>\n",
       "      <td>Not Canceled</td>\n",
       "    </tr>\n",
       "    <tr>\n",
       "      <th>5819077</th>\n",
       "      <td>0</td>\n",
       "      <td>Not Canceled</td>\n",
       "    </tr>\n",
       "    <tr>\n",
       "      <th>5819078</th>\n",
       "      <td>0</td>\n",
       "      <td>Not Canceled</td>\n",
       "    </tr>\n",
       "  </tbody>\n",
       "</table>\n",
       "<p>5729195 rows × 2 columns</p>\n",
       "</div>"
      ],
      "text/plain": [
       "         CANCELLED CANCELLATION_REASON\n",
       "0                0        Not Canceled\n",
       "1                0        Not Canceled\n",
       "2                0        Not Canceled\n",
       "3                0        Not Canceled\n",
       "4                0        Not Canceled\n",
       "...            ...                 ...\n",
       "5819074          0        Not Canceled\n",
       "5819075          0        Not Canceled\n",
       "5819076          0        Not Canceled\n",
       "5819077          0        Not Canceled\n",
       "5819078          0        Not Canceled\n",
       "\n",
       "[5729195 rows x 2 columns]"
      ]
     },
     "execution_count": 59,
     "metadata": {},
     "output_type": "execute_result"
    }
   ],
   "source": [
    "flights_df[flights_df['CANCELLED']== 0][['CANCELLED','CANCELLATION_REASON']]"
   ]
  },
  {
   "cell_type": "code",
   "execution_count": null,
   "metadata": {},
   "outputs": [],
   "source": [
    "flights_df[flights_df['CANCELLATION_REASON'].isna()] = 'Not Cancelled'"
   ]
  },
  {
   "cell_type": "code",
   "execution_count": null,
   "metadata": {},
   "outputs": [
    {
     "data": {
      "text/plain": [
       "CANCELLED  CANCELLATION_REASON\n",
       "0          Not Canceled           5729195\n",
       "1          B                        48851\n",
       "           A                        25262\n",
       "           C                        15749\n",
       "           D                           22\n",
       "Name: count, dtype: int64"
      ]
     },
     "execution_count": 61,
     "metadata": {},
     "output_type": "execute_result"
    }
   ],
   "source": [
    "flights_df[['CANCELLED','CANCELLATION_REASON']].value_counts()"
   ]
  },
  {
   "cell_type": "code",
   "execution_count": null,
   "metadata": {},
   "outputs": [
    {
     "data": {
      "image/png": "[encoded data removed]",
      "text/plain": [
       "<Figure size 720x432 with 1 Axes>"
      ]
     },
     "metadata": {
      "needs_background": "light"
     },
     "output_type": "display_data"
    },
    {
     "ename": "ValueError",
     "evalue": "Could not interpret input 'AIRLINE'",
     "output_type": "error",
     "traceback": [
      "\u001b[1;31m---------------------------------------------------------------------------\u001b[0m",
      "\u001b[1;31mValueError\u001b[0m                                Traceback (most recent call last)",
      "\u001b[1;32m<ipython-input-62-2022d6a5d363>\u001b[0m in \u001b[0;36m<module>\u001b[1;34m\u001b[0m\n\u001b[0;32m     31\u001b[0m \u001b[1;31m# Average delay by airline\u001b[0m\u001b[1;33m\u001b[0m\u001b[1;33m\u001b[0m\u001b[1;33m\u001b[0m\u001b[0m\n\u001b[0;32m     32\u001b[0m \u001b[0mplt\u001b[0m\u001b[1;33m.\u001b[0m\u001b[0mfigure\u001b[0m\u001b[1;33m(\u001b[0m\u001b[0mfigsize\u001b[0m\u001b[1;33m=\u001b[0m\u001b[1;33m(\u001b[0m\u001b[1;36m14\u001b[0m\u001b[1;33m,\u001b[0m \u001b[1;36m7\u001b[0m\u001b[1;33m)\u001b[0m\u001b[1;33m)\u001b[0m\u001b[1;33m\u001b[0m\u001b[1;33m\u001b[0m\u001b[0m\n\u001b[1;32m---> 33\u001b[1;33m \u001b[0msns\u001b[0m\u001b[1;33m.\u001b[0m\u001b[0mbarplot\u001b[0m\u001b[1;33m(\u001b[0m\u001b[0mx\u001b[0m\u001b[1;33m=\u001b[0m\u001b[1;34m'AIRLINE'\u001b[0m\u001b[1;33m,\u001b[0m \u001b[0my\u001b[0m\u001b[1;33m=\u001b[0m\u001b[1;34m'DEPARTURE_DELAY'\u001b[0m\u001b[1;33m,\u001b[0m \u001b[0mdata\u001b[0m\u001b[1;33m=\u001b[0m\u001b[0mflights_df\u001b[0m\u001b[1;33m,\u001b[0m \u001b[0mestimator\u001b[0m\u001b[1;33m=\u001b[0m\u001b[0mnp\u001b[0m\u001b[1;33m.\u001b[0m\u001b[0mmean\u001b[0m\u001b[1;33m)\u001b[0m\u001b[1;33m\u001b[0m\u001b[1;33m\u001b[0m\u001b[0m\n\u001b[0m\u001b[0;32m     34\u001b[0m \u001b[0mplt\u001b[0m\u001b[1;33m.\u001b[0m\u001b[0mtitle\u001b[0m\u001b[1;33m(\u001b[0m\u001b[1;34m'Average Departure Delay by Airline'\u001b[0m\u001b[1;33m)\u001b[0m\u001b[1;33m\u001b[0m\u001b[1;33m\u001b[0m\u001b[0m\n\u001b[0;32m     35\u001b[0m \u001b[0mplt\u001b[0m\u001b[1;33m.\u001b[0m\u001b[0mxlabel\u001b[0m\u001b[1;33m(\u001b[0m\u001b[1;34m'Airline'\u001b[0m\u001b[1;33m)\u001b[0m\u001b[1;33m\u001b[0m\u001b[1;33m\u001b[0m\u001b[0m\n",
      "\u001b[1;32mc:\\Users\\Azadeh\\anaconda3\\lib\\site-packages\\seaborn\\_decorators.py\u001b[0m in \u001b[0;36minner_f\u001b[1;34m(*args, **kwargs)\u001b[0m\n\u001b[0;32m     44\u001b[0m             )\n\u001b[0;32m     45\u001b[0m         \u001b[0mkwargs\u001b[0m\u001b[1;33m.\u001b[0m\u001b[0mupdate\u001b[0m\u001b[1;33m(\u001b[0m\u001b[1;33m{\u001b[0m\u001b[0mk\u001b[0m\u001b[1;33m:\u001b[0m \u001b[0marg\u001b[0m \u001b[1;32mfor\u001b[0m \u001b[0mk\u001b[0m\u001b[1;33m,\u001b[0m \u001b[0marg\u001b[0m \u001b[1;32min\u001b[0m \u001b[0mzip\u001b[0m\u001b[1;33m(\u001b[0m\u001b[0msig\u001b[0m\u001b[1;33m.\u001b[0m\u001b[0mparameters\u001b[0m\u001b[1;33m,\u001b[0m \u001b[0margs\u001b[0m\u001b[1;33m)\u001b[0m\u001b[1;33m}\u001b[0m\u001b[1;33m)\u001b[0m\u001b[1;33m\u001b[0m\u001b[1;33m\u001b[0m\u001b[0m\n\u001b[1;32m---> 46\u001b[1;33m         \u001b[1;32mreturn\u001b[0m \u001b[0mf\u001b[0m\u001b[1;33m(\u001b[0m\u001b[1;33m**\u001b[0m\u001b[0mkwargs\u001b[0m\u001b[1;33m)\u001b[0m\u001b[1;33m\u001b[0m\u001b[1;33m\u001b[0m\u001b[0m\n\u001b[0m\u001b[0;32m     47\u001b[0m     \u001b[1;32mreturn\u001b[0m \u001b[0minner_f\u001b[0m\u001b[1;33m\u001b[0m\u001b[1;33m\u001b[0m\u001b[0m\n\u001b[0;32m     48\u001b[0m \u001b[1;33m\u001b[0m\u001b[0m\n",
      "\u001b[1;32mc:\\Users\\Azadeh\\anaconda3\\lib\\site-packages\\seaborn\\categorical.py\u001b[0m in \u001b[0;36mbarplot\u001b[1;34m(x, y, hue, data, order, hue_order, estimator, ci, n_boot, units, seed, orient, color, palette, saturation, errcolor, errwidth, capsize, dodge, ax, **kwargs)\u001b[0m\n\u001b[0;32m   3177\u001b[0m ):\n\u001b[0;32m   3178\u001b[0m \u001b[1;33m\u001b[0m\u001b[0m\n\u001b[1;32m-> 3179\u001b[1;33m     plotter = _BarPlotter(x, y, hue, data, order, hue_order,\n\u001b[0m\u001b[0;32m   3180\u001b[0m                           \u001b[0mestimator\u001b[0m\u001b[1;33m,\u001b[0m \u001b[0mci\u001b[0m\u001b[1;33m,\u001b[0m \u001b[0mn_boot\u001b[0m\u001b[1;33m,\u001b[0m \u001b[0munits\u001b[0m\u001b[1;33m,\u001b[0m \u001b[0mseed\u001b[0m\u001b[1;33m,\u001b[0m\u001b[1;33m\u001b[0m\u001b[1;33m\u001b[0m\u001b[0m\n\u001b[0;32m   3181\u001b[0m                           \u001b[0morient\u001b[0m\u001b[1;33m,\u001b[0m \u001b[0mcolor\u001b[0m\u001b[1;33m,\u001b[0m \u001b[0mpalette\u001b[0m\u001b[1;33m,\u001b[0m \u001b[0msaturation\u001b[0m\u001b[1;33m,\u001b[0m\u001b[1;33m\u001b[0m\u001b[1;33m\u001b[0m\u001b[0m\n",
      "\u001b[1;32mc:\\Users\\Azadeh\\anaconda3\\lib\\site-packages\\seaborn\\categorical.py\u001b[0m in \u001b[0;36m__init__\u001b[1;34m(self, x, y, hue, data, order, hue_order, estimator, ci, n_boot, units, seed, orient, color, palette, saturation, errcolor, errwidth, capsize, dodge)\u001b[0m\n\u001b[0;32m   1582\u001b[0m                  errwidth, capsize, dodge):\n\u001b[0;32m   1583\u001b[0m         \u001b[1;34m\"\"\"Initialize the plotter.\"\"\"\u001b[0m\u001b[1;33m\u001b[0m\u001b[1;33m\u001b[0m\u001b[0m\n\u001b[1;32m-> 1584\u001b[1;33m         self.establish_variables(x, y, hue, data, orient,\n\u001b[0m\u001b[0;32m   1585\u001b[0m                                  order, hue_order, units)\n\u001b[0;32m   1586\u001b[0m         \u001b[0mself\u001b[0m\u001b[1;33m.\u001b[0m\u001b[0mestablish_colors\u001b[0m\u001b[1;33m(\u001b[0m\u001b[0mcolor\u001b[0m\u001b[1;33m,\u001b[0m \u001b[0mpalette\u001b[0m\u001b[1;33m,\u001b[0m \u001b[0msaturation\u001b[0m\u001b[1;33m)\u001b[0m\u001b[1;33m\u001b[0m\u001b[1;33m\u001b[0m\u001b[0m\n",
      "\u001b[1;32mc:\\Users\\Azadeh\\anaconda3\\lib\\site-packages\\seaborn\\categorical.py\u001b[0m in \u001b[0;36mestablish_variables\u001b[1;34m(self, x, y, hue, data, orient, order, hue_order, units)\u001b[0m\n\u001b[0;32m    151\u001b[0m                 \u001b[1;32mif\u001b[0m \u001b[0misinstance\u001b[0m\u001b[1;33m(\u001b[0m\u001b[0mvar\u001b[0m\u001b[1;33m,\u001b[0m \u001b[0mstr\u001b[0m\u001b[1;33m)\u001b[0m\u001b[1;33m:\u001b[0m\u001b[1;33m\u001b[0m\u001b[1;33m\u001b[0m\u001b[0m\n\u001b[0;32m    152\u001b[0m                     \u001b[0merr\u001b[0m \u001b[1;33m=\u001b[0m \u001b[1;34m\"Could not interpret input '{}'\"\u001b[0m\u001b[1;33m.\u001b[0m\u001b[0mformat\u001b[0m\u001b[1;33m(\u001b[0m\u001b[0mvar\u001b[0m\u001b[1;33m)\u001b[0m\u001b[1;33m\u001b[0m\u001b[1;33m\u001b[0m\u001b[0m\n\u001b[1;32m--> 153\u001b[1;33m                     \u001b[1;32mraise\u001b[0m \u001b[0mValueError\u001b[0m\u001b[1;33m(\u001b[0m\u001b[0merr\u001b[0m\u001b[1;33m)\u001b[0m\u001b[1;33m\u001b[0m\u001b[1;33m\u001b[0m\u001b[0m\n\u001b[0m\u001b[0;32m    154\u001b[0m \u001b[1;33m\u001b[0m\u001b[0m\n\u001b[0;32m    155\u001b[0m             \u001b[1;31m# Figure out the plotting orientation\u001b[0m\u001b[1;33m\u001b[0m\u001b[1;33m\u001b[0m\u001b[1;33m\u001b[0m\u001b[0m\n",
      "\u001b[1;31mValueError\u001b[0m: Could not interpret input 'AIRLINE'"
     ]
    },
    {
     "data": {
      "text/plain": [
       "<Figure size 1008x504 with 0 Axes>"
      ]
     },
     "metadata": {},
     "output_type": "display_data"
    }
   ],
   "source": [
    "# Data Cleaning\n",
    "# Handling missing values by imputing with mean for numerical columns, and mode for categorical columns\n",
    "for column in flights_df.select_dtypes(include=[np.number]).columns:\n",
    "    flights_df[column].fillna(flights_df[column].mean(), inplace=True)\n",
    "\n",
    "for column in flights_df.select_dtypes(include=[object]).columns:\n",
    "    flights_df[column].fillna(flights_df[column].mode()[0], inplace=True)\n",
    "\n",
    "# Convert data types where necessary\n",
    "flights_df['FLIGHT_NUMBER'] = flights_df['FLIGHT_NUMBER'].astype(str)\n",
    "flights_df['TAIL_NUMBER'] = flights_df['TAIL_NUMBER'].astype(str)\n",
    "\n",
    "# Data Merging\n",
    "# Merge flights data with airlines data\n",
    "flights_df = flights_df.merge(airlines_df, how='left', left_on='AIRLINE', right_on='IATA_CODE').drop('IATA_CODE', axis=1)\n",
    "\n",
    "# Merge flights data with origin and destination airport data\n",
    "flights_df = flights_df.merge(airports_df, how='left', left_on='ORIGIN_AIRPORT', right_on='IATA_CODE').drop('IATA_CODE', axis=1)\n",
    "flights_df = flights_df.merge(airports_df, how='left', left_on='DESTINATION_AIRPORT', right_on='IATA_CODE', suffixes=('_ORIGIN', '_DESTINATION')).drop('IATA_CODE', axis=1)\n",
    "\n",
    "# EDA\n",
    "# Distribution of departure delays\n",
    "plt.figure(figsize=(10, 6))\n",
    "sns.histplot(flights_df['DEPARTURE_DELAY'], bins=100, kde=True)\n",
    "plt.title('Distribution of Departure Delays')\n",
    "plt.xlabel('Departure Delay (minutes)')\n",
    "plt.ylabel('Frequency')\n",
    "plt.xlim(-100, 300)\n",
    "plt.show()\n",
    "\n",
    "# Average delay by airline\n",
    "plt.figure(figsize=(14, 7))\n",
    "sns.barplot(x='AIRLINE', y='DEPARTURE_DELAY', data=flights_df, estimator=np.mean)\n",
    "plt.title('Average Departure Delay by Airline')\n",
    "plt.xlabel('Airline')\n",
    "plt.ylabel('Average Departure Delay (minutes)')\n",
    "plt.xticks(rotation=90)\n",
    "plt.show()\n",
    "\n",
    "# Average delay by month\n",
    "plt.figure(figsize=(14, 7))\n",
    "sns.barplot(x='MONTH', y='DEPARTURE_DELAY', data=flights_df, estimator=np.mean)\n",
    "plt.title('Average Departure Delay by Month')\n",
    "plt.xlabel('Month')\n",
    "plt.ylabel('Average Departure Delay (minutes)')\n",
    "plt.show()\n",
    "\n",
    "# Average delay by airport\n",
    "top_airports = flights_df['ORIGIN_AIRPORT'].value_counts().head(10).index\n",
    "plt.figure(figsize=(14, 7))\n",
    "sns.barplot(x='ORIGIN_AIRPORT', y='DEPARTURE_DELAY', data=flights_df[flights_df['ORIGIN_AIRPORT'].isin(top_airports)], estimator=np.mean)\n",
    "plt.title('Average Departure Delay by Airport')\n",
    "plt.xlabel('Origin Airport')\n",
    "plt.ylabel('Average Departure Delay (minutes)')\n",
    "plt.xticks(rotation=90)\n",
    "plt.show()\n",
    "\n",
    "# Save cleaned and merged data\n",
    "flights_df.to_csv('/mnt/data/cleaned_flights_data.csv', index=False)\n",
    "\n",
    "\n"
   ]
  }
 ],
 "metadata": {
  "kernelspec": {
   "display_name": "base",
   "language": "python",
   "name": "python3"
  },
  "language_info": {
   "codemirror_mode": {
    "name": "ipython",
    "version": 3
   },
   "file_extension": ".py",
   "mimetype": "text/x-python",
   "name": "python",
   "nbconvert_exporter": "python",
   "pygments_lexer": "ipython3",
   "version": "3.8.8"
  }
 },
 "nbformat": 4,
 "nbformat_minor": 2
}
