{
 "cells": [
  {
   "cell_type": "markdown",
   "metadata": {},
   "source": [
    "# Flight Delays Prediction Project\n",
    "\n",
    "## Introduction\n",
    "This project aims to predict flight delays in minutes using flight data. The analysis leverages data sourced from Kaggle and applies machine learning models, specifically LightGBM and Random Forest, to make predictions.\n",
    "\n",
    "## Data Source\n",
    "The dataset used in this project is obtained from Kaggle:\n",
    "[Flight Delays Dataset](https://www.kaggle.com/datasets/usdot/flight-delays)\n",
    "\n",
    "## Notebooks\n",
    "The project consists of two main Jupyter notebooks:\n",
    "\n",
    "### 1. Data Wrangling and Exploratory Data Analysis (EDA)\n",
    "This notebook covers the initial data wrangling and exploratory data analysis to understand the dataset and preprocess it for modeling.\n",
    "- [Data Wrangling and EDA Notebook](https://github.com/azadehansari/Capstone3_Flight_Delays_Prediction/blob/main/notebooks/01.%20Data_Wrangling-EDA.ipynb)\n",
    "\n",
    "### 2. Preprocessing and Modeling\n",
    "This notebook includes the preprocessing steps required before modeling and the implementation of the LightGBM and Random Forest models.\n",
    "- [Preprocessing and Modeling Notebook](https://github.com/azadehansari/Capstone3_Flight_Delays_Prediction/blob/main/notebooks/02.PreProcess%26Modeling.ipynb)\n",
    "\n",
    "## Methodology\n",
    "### Data Wrangling and EDA\n",
    "- **Data Cleaning**: Handling missing values, outliers, and irrelevant features.\n",
    "- **Exploratory Data Analysis**: Visualizing distributions, correlations, and trends in the data.\n",
    "\n",
    "### Preprocessing\n",
    "- **Feature Engineering**: Creating new features that can help improve model performance.\n",
    "- **Data Splitting**: Dividing the dataset into training and testing sets.\n",
    "\n",
    "### Modeling\n",
    "- **LightGBM**: A gradient boosting framework that uses tree-based learning algorithms.\n",
    "- **Random Forest**: An ensemble learning method that operates by constructing multiple decision trees.\n",
    "\n",
    "## Results\n",
    "The performance of the models is evaluated using metrics such as Mean Absolute Error (MAE), Mean Squared Error (MSE), and R-squared (R²).\n",
    "\n",
    "The RMSE of each model was calculated to determine how well they performed in predicting the flight delays (in minutes).\n",
    "\n",
    "| Model                | RMSE          | Time (minutes)|\n",
    "|----------------------|---------------|---------------|\n",
    "| Light GBM            | 102.44        |    28         |\n",
    "| Random Forest        | 104.59        |    263        |\n",
    "| Neural Networks      | -             |   Did not run |\n",
    "\n",
    "## Conclusion\n",
    "This project demonstrates the process of predicting flight delays using machine learning techniques. By leveraging EDA and preprocessing, followed by the application of LightGBM and Random Forest models, we aim to achieve accurate predictions of flight delays. However, **LightGBM** seems to run faster and more accurate.\n",
    "\n",
    "For more details, please refer to the linked notebooks above."
   ]
  }
 ],
 "metadata": {
  "language_info": {
   "name": "python"
  }
 },
 "nbformat": 4,
 "nbformat_minor": 2
}
